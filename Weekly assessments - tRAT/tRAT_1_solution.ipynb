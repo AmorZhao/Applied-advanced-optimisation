{
  "cells": [
    {
      "cell_type": "markdown",
      "metadata": {
        "id": "3YgdV8O_hKTO"
      },
      "source": [
        "# Solution tRAT 1"
      ]
    },
    {
      "cell_type": "markdown",
      "metadata": {
        "id": "RKo-QF5IhGWI"
      },
      "source": [
        "---\n",
        "---\n",
        "\n",
        "**Author:** Dr Giordano Scarciotti (g.scarciotti@imperial.ac.uk) - Imperial College London\n",
        "\n",
        "**Module:** ELEC70066 - Applied Advanced Optimisation\n",
        "\n",
        "**Version:** 1.1.1 - 16/01/2025\n",
        "\n",
        "---\n",
        "---"
      ]
    },
    {
      "cell_type": "markdown",
      "metadata": {
        "id": "xveKgDuirsg6"
      },
      "source": [
        "# Exercise"
      ]
    },
    {
      "cell_type": "markdown",
      "metadata": {
        "id": "lwN_wYrVSODe"
      },
      "source": [
        "Copy this file in your drive, write your solution, download your solved file as .ipynb and submit it to Blackboard."
      ]
    },
    {
      "cell_type": "markdown",
      "metadata": {
        "id": "gC6mx7yNhNZo"
      },
      "source": [
        "Consider the basic norm approximation problem\n",
        "\n",
        "$$\\displaystyle\\min_x || Ax-b || \\tag{1}$$\n",
        "\n",
        "Tha data of the problem is given by"
      ]
    },
    {
      "cell_type": "code",
      "execution_count": null,
      "metadata": {
        "id": "rBGXmYcJrlzr"
      },
      "outputs": [],
      "source": [
        "import cvxpy as cp\n",
        "import numpy as np\n",
        "\n",
        "m = 100\n",
        "n = 30\n",
        "np.random.seed(1)\n",
        "A = np.random.randn(m, n)\n",
        "b = np.random.randn(m)"
      ]
    },
    {
      "cell_type": "markdown",
      "metadata": {
        "id": "sglOzpy0rq3Y"
      },
      "source": [
        "**Question 1:** Solve problem $(1)$ for the norms\n",
        "\n",
        "\n",
        "\n",
        "1.   $\\ell_1$-norm\n",
        "2.   $\\ell_2$-norm\n",
        "3.   $\\ell_\\infty$-norm\n",
        "\n",
        "You may find this useful https://www.cvxpy.org/tutorial/functions/index.html#scalar-functions"
      ]
    },
    {
      "cell_type": "markdown",
      "metadata": {
        "id": "7zndqWJNsNS0"
      },
      "source": [
        "**Question 2:** Compute the residuals for each of the three norms (e.g. r_l1 = A @ x.value - b) and plot the three hystograms of the residuals. To plot the hystograms use the command"
      ]
    },
    {
      "cell_type": "code",
      "execution_count": null,
      "metadata": {
        "id": "jeuhTPjPyvAa"
      },
      "outputs": [],
      "source": [
        "import matplotlib.pyplot as plt"
      ]
    },
    {
      "cell_type": "code",
      "execution_count": null,
      "metadata": {
        "id": "CQP5m6MZsjfR"
      },
      "outputs": [],
      "source": [
        "plt.hist(r_l1, 50); # plot the hystogram of residual r_l1 with 50 bins\n"
      ]
    },
    {
      "cell_type": "markdown",
      "metadata": {
        "id": "2tsC885Hs_om"
      },
      "source": [
        "**Question 3:** Explain why the residuals are distributed the way they are in the $\\ell_\\infty$ case, and compare this distribution to that of the $\\ell_1$ and $\\ell_2$ cases."
      ]
    },
    {
      "cell_type": "markdown",
      "metadata": {
        "id": "zTLkqCzetlFl"
      },
      "source": [
        "# Solution"
      ]
    },
    {
      "cell_type": "markdown",
      "metadata": {
        "id": "qJ_yR6Tj30u7"
      },
      "source": [
        "**Do not share this solution online.** This solution is for the exclusive benefit of the students of ELEC70066 - Applied Advanced Optimisation in the Academic Year 2024/2025"
      ]
    },
    {
      "cell_type": "code",
      "execution_count": null,
      "metadata": {
        "id": "Y4KZ1uFaizJg"
      },
      "outputs": [],
      "source": [
        "x = cp.Variable(n)\n",
        "cost_l1 = cp.norm(A @ x - b,1)\n",
        "cost_l2 = cp.norm(A @ x - b,2)\n",
        "cost_linf = cp.norm(A @ x - b,'inf')"
      ]
    },
    {
      "cell_type": "code",
      "execution_count": null,
      "metadata": {
        "id": "qqjUT921qJh0"
      },
      "outputs": [],
      "source": [
        "prob = cp.Problem(cp.Minimize(cost_l1))\n",
        "prob.solve()\n",
        "\n",
        "r_l1 = A @ x.value - b\n",
        "\n",
        "prob = cp.Problem(cp.Minimize(cost_l2))\n",
        "prob.solve()\n",
        "\n",
        "r_l2 = A @ x.value - b\n",
        "\n",
        "prob = cp.Problem(cp.Minimize(cost_linf))\n",
        "prob.solve()\n",
        "\n",
        "r_linf = A @ x.value - b\n"
      ]
    },
    {
      "cell_type": "code",
      "execution_count": null,
      "metadata": {
        "colab": {
          "base_uri": "https://localhost:8080/",
          "height": 265
        },
        "id": "XpZpdLwAmEtt",
        "outputId": "bfa3a4f9-f7d2-4de5-c15a-ec377354b7b7"
      },
      "outputs": [
        {
          "data": {
            "image/png": "[encoded data removed]",
            "text/plain": [
              "<Figure size 432x288 with 1 Axes>"
            ]
          },
          "metadata": {
            "needs_background": "light"
          },
          "output_type": "display_data"
        }
      ],
      "source": [
        "plt.hist(r_l1, 50);"
      ]
    },
    {
      "cell_type": "code",
      "execution_count": null,
      "metadata": {
        "colab": {
          "base_uri": "https://localhost:8080/",
          "height": 265
        },
        "id": "eYwGord2mbWd",
        "outputId": "d39bd343-f01f-4cf9-cb20-c7a9aa5d0a06"
      },
      "outputs": [
        {
          "data": {
            "image/png": "[encoded data removed]",
            "text/plain": [
              "<Figure size 432x288 with 1 Axes>"
            ]
          },
          "metadata": {
            "needs_background": "light"
          },
          "output_type": "display_data"
        }
      ],
      "source": [
        "plt.hist(r_l2, 50);"
      ]
    },
    {
      "cell_type": "code",
      "execution_count": null,
      "metadata": {
        "colab": {
          "base_uri": "https://localhost:8080/",
          "height": 265
        },
        "id": "Ycs9zOHCmcpj",
        "outputId": "422e088b-3dc1-4428-a547-db63482540d3"
      },
      "outputs": [
        {
          "data": {
            "image/png": "[encoded data removed]",
            "text/plain": [
              "<Figure size 432x288 with 1 Axes>"
            ]
          },
          "metadata": {
            "needs_background": "light"
          },
          "output_type": "display_data"
        }
      ],
      "source": [
        "plt.hist(r_linf, 50);"
      ]
    },
    {
      "cell_type": "markdown",
      "metadata": {
        "id": "09a9tPqozgBe"
      },
      "source": [
        "As the minimisation of the $\\ell_\\infty$-norm tries to minimize the maximum residual (in absolute value), it naturally shows an accumulation of residuals around the maximum value. That is because if a residual is larger than the maximum, then there is an incentive to push it down. However, if a residual is below the maximum, there is no incentive to move it around. So residuals between the maximum and minimum are more or less evenly spread."
      ]
    }
  ],
  "metadata": {
    "colab": {
      "provenance": []
    },
    "kernelspec": {
      "display_name": "Python 3",
      "name": "python3"
    },
    "language_info": {
      "name": "python"
    }
  },
  "nbformat": 4,
  "nbformat_minor": 0
}
