{
  "cells": [
    {
      "cell_type": "markdown",
      "metadata": {
        "id": "G06UmgF0s4bb"
      },
      "source": [
        "# Solution tRAT 3"
      ]
    },
    {
      "cell_type": "markdown",
      "metadata": {
        "id": "s8mlE0lEs0qK"
      },
      "source": [
        "---\n",
        "---\n",
        "\n",
        "**Author:** Dr Giordano Scarciotti (g.scarciotti@imperial.ac.uk) - Imperial College London\n",
        "\n",
        "**Module:** ELEC70066 - Applied Advanced Optimisation\n",
        "\n",
        "**Version:** 1.1.1 - 29/01/2025\n",
        "\n",
        "---\n",
        "---"
      ]
    },
    {
      "cell_type": "markdown",
      "metadata": {
        "id": "5NmRJCRIs0-W"
      },
      "source": [
        "# Exercise"
      ]
    },
    {
      "cell_type": "markdown",
      "metadata": {
        "id": "HjIJ7n86s-dT"
      },
      "source": [
        "Consider a three-state boolean linear programme\n",
        "\n",
        "$$\n",
        "\\begin{array}{ll}\n",
        "\\displaystyle \\min_{x} &  c^\\top x \\\\\n",
        "\\text{s.t. } & Ax \\preccurlyeq b,\\\\\n",
        "& x_i\\in \\{0, 0.5, 1\\}, \\qquad i = 1, \\dots, n.\n",
        "\\end{array}\\tag{1}\n",
        "$$\n",
        "\n",
        "where the variable $x$ is constrained to have components equal to zero, half or one. You can think of $x_i$ as a job we can accept (1), subcontract (0.5) or decline (0), and $−c_i$ as the (positive) revenue we generate if we accept or subcontract job $i$. We can think of $Ax \\preccurlyeq b$ as a set of limits on $m$ resources. $A_{ij}$, which is positive, is the amount of resource $i$ consumed if we accept job $j$; If the job is subcontracted we have half the revenues, but we also half the amount of resources spent. $b_i$, which is positive, is the amount of resource $i$ available.\n",
        "\n"
      ]
    },
    {
      "cell_type": "markdown",
      "metadata": {
        "id": "PTVOy2BcB4WI"
      },
      "source": [
        "For your convenience, the relaxation of the problem (i.e. $0 \\le x\\le 1$) is already solved in the code below."
      ]
    },
    {
      "cell_type": "code",
      "execution_count": null,
      "metadata": {
        "id": "Ma0mCNfov55x"
      },
      "outputs": [],
      "source": [
        "import cvxpy as cp\n",
        "import numpy as np\n",
        "\n",
        "n = 100\n",
        "m = 300\n",
        "np.random.seed(1)\n",
        "A = np.random.random((m, n)) # positve\n",
        "b = np.dot(A,np.ones(n)/2) # postive\n",
        "c = -np.random.random(n) # negative, so -c is positive"
      ]
    },
    {
      "cell_type": "code",
      "execution_count": null,
      "metadata": {
        "colab": {
          "base_uri": "https://localhost:8080/"
        },
        "id": "-C1W1ibTv6aa",
        "outputId": "31f4c31f-af3d-4826-af9c-99405bb3a6c7"
      },
      "outputs": [
        {
          "name": "stdout",
          "output_type": "stream",
          "text": [
            "\n",
            "The optimal value is -34.589711316657315\n"
          ]
        }
      ],
      "source": [
        "# Define and solve the CVXPY problem.\n",
        "x = cp.Variable(n)\n",
        "prob = cp.Problem(cp.Minimize(c.T@x),[A @ x <= b, x >= 0, x<= 1])\n",
        "prob.solve()\n",
        "\n",
        "# Print result.\n",
        "L=prob.value\n",
        "print(\"\\nThe optimal value is\", prob.value)\n",
        "#print(\"A solution x is\", x.value)"
      ]
    },
    {
      "cell_type": "markdown",
      "metadata": {
        "id": "FJJV2_iECUnZ"
      },
      "source": [
        "1.   Explain how you would develop a threshold rounding for this problem.\n",
        "2.   Carry out threshold rounding. For each value of of the threshold(s), note the objective value $c^\\top \\hat{x}$ and the maximum constraint violation $\\max_i(A\\hat{x} − b)_i$.\n",
        "3.   Find the minimum feasible objective value and note it as the upper bound $U$. Compute the relative suboptimality percentage as $\\frac{|U-L|}{|L|} \\times 100$.\n",
        "\n"
      ]
    },
    {
      "cell_type": "markdown",
      "metadata": {
        "id": "V7xrT8kDKLpz"
      },
      "source": [
        "# Solution"
      ]
    },
    {
      "cell_type": "markdown",
      "metadata": {
        "id": "IMwkt4uNKTTK"
      },
      "source": [
        "1.   The relaxed solution $x_r$ can be used to guess a point $\\hat x$ by rounding its entries based on two thresholds $t_b \\in [0,1]$ and $t^t \\in [0,1]$:\n",
        "$$\n",
        "\\hat x_i = \\left\\{ \\begin{array}{ll} 1 & x_r \\ge t^t \\\\\n",
        "0.5 & t_b \\le x_r < t^t \\\\\n",
        " 0 & x_r \\le t_b \\end{array} \\right.\n",
        "$$\n",
        "for $i = 1,\\dots, n$. If $\\hat x$ is feasible for problem $(1)$, i.e., if $A\\hat x \\preccurlyeq b$, then it can be considered a guess at a good point for the Boolean problem. Its objective value, $U = c^\\top \\hat{x}$, is an upper bound on $p_B^*$. If $U$ and $L$ are close, then $\\hat{x}$ is nearly optimal; specifically, $\\hat{x}$ cannot be more than $(U − L)$-suboptimal for problem $(1)$."
      ]
    },
    {
      "cell_type": "markdown",
      "metadata": {
        "id": "vqkS45TCLAoT"
      },
      "source": [
        "2.   Threshold rounding is carried out in the following code."
      ]
    },
    {
      "cell_type": "code",
      "execution_count": null,
      "metadata": {
        "id": "CXVUIiN1v94a"
      },
      "outputs": [],
      "source": [
        "import matplotlib.pyplot as plt # Library to generate the plots"
      ]
    },
    {
      "cell_type": "code",
      "execution_count": null,
      "metadata": {
        "id": "LVdtZPcswCIq"
      },
      "outputs": [],
      "source": [
        "# Generation of 100 values of tt and tb uniformly spaced over [0,1]^2\n",
        "num_t=100\n",
        "tt=np.linspace(0, 1, num=num_t)\n",
        "tb=np.linspace(0, 1, num=num_t)"
      ]
    },
    {
      "cell_type": "code",
      "execution_count": null,
      "metadata": {
        "id": "RMoj0WWNwEJJ"
      },
      "outputs": [],
      "source": [
        "# Implementation of the relaxation\n",
        "obj = np.zeros((num_t,num_t)) # Initialisation of 2d-array of (100,100) objective values\n",
        "maxviol = np.zeros((num_t,num_t)) # Initialisation of 2d-array of (100,100) maximum violations\n",
        "for i in range(num_t): # for each threshold\n",
        "  for j in range(num_t):\n",
        "    hat_x = np.zeros(n) # we implement the rule\n",
        "    for k in range(n):\n",
        "        if x.value[k]>=tt[i]:\n",
        "          hat_x[k] = 1\n",
        "        elif x.value[k]>=tb[j] and x.value[k]<tt[i]:\n",
        "          hat_x[k] = 0.5\n",
        "        else:\n",
        "          hat_x[k] = 0\n",
        "    obj[i][j] = c.T@hat_x # and compute the objective value\n",
        "    maxviol[i][j] = max(A @ hat_x - b) # and constraint"
      ]
    },
    {
      "cell_type": "markdown",
      "metadata": {
        "id": "HKBZywxDLn8U"
      },
      "source": [
        "3.   The upper bound for $(1)$ is given by"
      ]
    },
    {
      "cell_type": "code",
      "execution_count": null,
      "metadata": {
        "colab": {
          "base_uri": "https://localhost:8080/"
        },
        "id": "5YVtHcaUwHaA",
        "outputId": "f427a1dc-3bd0-469d-f8aa-2dcc7a6da444"
      },
      "outputs": [
        {
          "name": "stdout",
          "output_type": "stream",
          "text": [
            "The upper bound is  -33.99926712688335\n"
          ]
        }
      ],
      "source": [
        "U=min(obj[np.where(maxviol <= 0)])\n",
        "print(\"The upper bound is \",U)"
      ]
    },
    {
      "cell_type": "code",
      "execution_count": null,
      "metadata": {
        "colab": {
          "base_uri": "https://localhost:8080/"
        },
        "id": "sXXnykOCMdcs",
        "outputId": "a3762e17-1c48-498a-edd8-6842edeb94a1"
      },
      "outputs": [
        {
          "name": "stdout",
          "output_type": "stream",
          "text": [
            "The relative suboptimality percentage is 1.71 %\n"
          ]
        }
      ],
      "source": [
        "print(\"The relative suboptimality percentage is\",round(abs((U-L)/L)*100,2),\"%\")"
      ]
    },
    {
      "cell_type": "markdown",
      "metadata": {
        "id": "X7d41JJ7NAwX"
      },
      "source": [
        "## Addendum (not required)"
      ]
    },
    {
      "cell_type": "markdown",
      "metadata": {
        "id": "VkhhA93tNDDZ"
      },
      "source": [
        "Here we compute a feasible $\\hat x$ for $(1)$ which gives objective value equal to the upper bound."
      ]
    },
    {
      "cell_type": "code",
      "execution_count": null,
      "metadata": {
        "colab": {
          "base_uri": "https://localhost:8080/"
        },
        "id": "uRkCYTJ8_bUx",
        "outputId": "c4e4dd84-e2ce-4422-ce8e-aca2a4f420b3"
      },
      "outputs": [
        {
          "data": {
            "text/plain": [
              "(array([56, 57, 58, 59, 60, 61, 62]), array([36, 36, 36, 36, 36, 36, 36]))"
            ]
          },
          "execution_count": 8,
          "metadata": {},
          "output_type": "execute_result"
        }
      ],
      "source": [
        "# We find the indexes of tt and tb corresponding to U\n",
        "np.where(obj==U)"
      ]
    },
    {
      "cell_type": "markdown",
      "metadata": {
        "id": "zbCRf-zGQE4X"
      },
      "source": [
        "Any of the indeces pairs is equivalent. We pick $(56,36)$ and compute $\\hat x$"
      ]
    },
    {
      "cell_type": "code",
      "execution_count": null,
      "metadata": {
        "id": "UMvLAWXnaGsk"
      },
      "outputs": [],
      "source": [
        "i = 56\n",
        "j = 36\n",
        "hat_x = np.zeros(n) # we implement the rule\n",
        "for k in range(n):\n",
        "  if x.value[k]>=tt[i]:\n",
        "    hat_x[k] = 1\n",
        "  elif x.value[k]>=tb[j] and x.value[k]<tt[i]:\n",
        "    hat_x[k] = 0.5\n",
        "  else:\n",
        "    hat_x[k] = 0"
      ]
    },
    {
      "cell_type": "markdown",
      "metadata": {
        "id": "QQnLduaSQT6G"
      },
      "source": [
        "The obtained $\\hat{x}$ is given below."
      ]
    },
    {
      "cell_type": "code",
      "execution_count": null,
      "metadata": {
        "colab": {
          "base_uri": "https://localhost:8080/"
        },
        "id": "5C0Xps9kdLKy",
        "outputId": "ebec5d7e-8f91-45ad-d8ff-c5522d8758f8"
      },
      "outputs": [
        {
          "data": {
            "text/plain": [
              "array([0. , 1. , 1. , 0. , 0. , 1. , 1. , 1. , 1. , 1. , 1. , 0. , 1. ,\n",
              "       0. , 0. , 0. , 1. , 1. , 0. , 0. , 0.5, 1. , 0. , 1. , 0. , 0. ,\n",
              "       0. , 0. , 0. , 0.5, 0. , 1. , 0. , 1. , 1. , 0. , 0. , 1. , 1. ,\n",
              "       0. , 1. , 0. , 0. , 1. , 1. , 1. , 1. , 0. , 0. , 1. , 0. , 0. ,\n",
              "       1. , 1. , 0. , 0. , 0. , 1. , 1. , 1. , 1. , 0. , 0. , 0. , 1. ,\n",
              "       0. , 0. , 1. , 1. , 0. , 0. , 0. , 0.5, 0. , 1. , 0. , 0. , 0. ,\n",
              "       1. , 1. , 0. , 0. , 0. , 0. , 1. , 0. , 1. , 0. , 0. , 0. , 1. ,\n",
              "       1. , 0. , 1. , 0. , 1. , 0. , 1. , 0. , 0. ])"
            ]
          },
          "execution_count": 27,
          "metadata": {},
          "output_type": "execute_result"
        }
      ],
      "source": [
        "hat_x"
      ]
    },
    {
      "cell_type": "markdown",
      "metadata": {
        "id": "8I05NhKEQYVf"
      },
      "source": [
        "And the rounding threshold is"
      ]
    },
    {
      "cell_type": "code",
      "execution_count": null,
      "metadata": {
        "colab": {
          "base_uri": "https://localhost:8080/"
        },
        "id": "I6ODHsr_Qc6X",
        "outputId": "e8a94f7b-3dd7-4534-ec43-d93c953fe3ef"
      },
      "outputs": [
        {
          "name": "stdout",
          "output_type": "stream",
          "text": [
            "( 0.5656565656565657 , 0.36363636363636365 )\n"
          ]
        }
      ],
      "source": [
        "print(\"(\",tt[56],\",\",tb[36],\")\")"
      ]
    },
    {
      "cell_type": "markdown",
      "metadata": {
        "id": "Y-5JUOMP-lx6"
      },
      "source": [
        "We can also look for all equivalent thresholds."
      ]
    },
    {
      "cell_type": "code",
      "execution_count": null,
      "metadata": {
        "colab": {
          "base_uri": "https://localhost:8080/"
        },
        "id": "Dtf4TOQz-cKI",
        "outputId": "8697cc40-d88d-4507-8b01-8d3a08cb99f2"
      },
      "outputs": [
        {
          "data": {
            "text/plain": [
              "array([0.56565657, 0.57575758, 0.58585859, 0.5959596 , 0.60606061,\n",
              "       0.61616162, 0.62626263])"
            ]
          },
          "execution_count": 10,
          "metadata": {},
          "output_type": "execute_result"
        }
      ],
      "source": [
        "tt[np.where(obj==U)[0]]"
      ]
    },
    {
      "cell_type": "markdown",
      "metadata": {
        "id": "-cCN9BsU-q6x"
      },
      "source": [
        "This shows that $t^t$ can be any value between $0.566$ and $0.626$, whereas $t_b$ must be equal to $0.364$. It is interesting to note that $t^t=0.666$ and $t_b=0.333$ is not an optimal solution."
      ]
    },
    {
      "cell_type": "code",
      "execution_count": null,
      "metadata": {
        "id": "uR1Ipu6n-fI5"
      },
      "outputs": [],
      "source": []
    }
  ],
  "metadata": {
    "colab": {
      "provenance": []
    },
    "kernelspec": {
      "display_name": "Python 3",
      "name": "python3"
    },
    "language_info": {
      "name": "python"
    }
  },
  "nbformat": 4,
  "nbformat_minor": 0
}
