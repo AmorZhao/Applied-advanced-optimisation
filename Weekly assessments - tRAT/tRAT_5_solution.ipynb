{
  "cells": [
    {
      "cell_type": "markdown",
      "metadata": {
        "id": "G06UmgF0s4bb"
      },
      "source": [
        "# Solution tRAT 5"
      ]
    },
    {
      "cell_type": "markdown",
      "metadata": {
        "id": "s8mlE0lEs0qK"
      },
      "source": [
        "---\n",
        "---\n",
        "\n",
        "**Author:** Dr Giordano Scarciotti (g.scarciotti@imperial.ac.uk) - Imperial College London\n",
        "\n",
        "**Module:** ELEC70066 - Applied Advanced Optimisation\n",
        "\n",
        "**Version:** 1.1.1 - 13/02/2025\n",
        "\n",
        "---\n",
        "---"
      ]
    },
    {
      "cell_type": "markdown",
      "metadata": {
        "id": "z-vpEwc_TZH0"
      },
      "source": [
        "# Exercise"
      ]
    },
    {
      "cell_type": "markdown",
      "metadata": {
        "id": "ccZAG8rIFa_2"
      },
      "source": [
        "The classical Markowitz portfolio optimisation problem is\n",
        "naturally expressed as a bi-criterion minimisation problem, where the objectives are the negative mean return (since we wish to maximize mean return) and the variance of the return\n",
        "\n",
        "$$\n",
        "\\begin{array}{ll}\n",
        "\\min & (-\\bar{p}^\\top x,x^\\top \\Sigma x )\\\\\n",
        "s.t. & \\mathbf{1}^\\top x =1, \\\\ &x\\succeq 0.\\end{array}\n",
        "$$\n",
        "\n",
        "where $\\bar{p}$ is the price mean and $\\Sigma$ is the covariance. The two constraints express that $x$ indicates the normalised fraction of investement put into each asset (so the components of $x$ must sum to $1$) and the fact that we do not allow negative investments, called *shorts*. We scalarize the problem using the parameter $\\lambda$\n",
        "\n",
        "$$\n",
        "\\begin{array}{ll}\n",
        "\\min & -\\bar{p}^\\top x + \\lambda x^\\top \\Sigma x \\\\\n",
        "s.t. & \\mathbf{1}^\\top x =1, \\\\ &x\\succeq 0\\end{array}\n",
        "$$\n",
        "\n",
        "The parameter $\\lambda>0$ is called *risk aversion parameter*. The objective $-\\bar{p}^\\top x + \\lambda x^\\top \\Sigma x$ is called *risk-adjusted return*."
      ]
    },
    {
      "cell_type": "markdown",
      "metadata": {
        "id": "M4QE65GUOftK"
      },
      "source": [
        "Consider a simple portfolio optimization problem with\n",
        "$4$ assets, with price mean and covariance given in the code below."
      ]
    },
    {
      "cell_type": "code",
      "execution_count": null,
      "metadata": {
        "id": "qqyNStDvOtfj"
      },
      "outputs": [],
      "source": [
        "import numpy as np\n",
        "import cvxpy as cp\n",
        "n = 4\n",
        "bar_p = np.array([0.12,0.1,0.07,0.03])\n",
        "Sigma = np.zeros((n,n))\n",
        "Sigma[0,0]=0.2*0.2\n",
        "Sigma[1,1]=0.1*0.1\n",
        "Sigma[2,2]=0.05*0.05\n",
        "Sigma[3,3]=0"
      ]
    },
    {
      "cell_type": "markdown",
      "metadata": {
        "id": "knnv0In75jC-"
      },
      "source": [
        "Note that asset $4$ is risk-free with certain $3\\%$ return. The other assets have incresing return, ranging from $7\\%$ to $12\\%$, as well as increasing risk, ranging from $5\\%$ to $20\\%$."
      ]
    },
    {
      "cell_type": "markdown",
      "metadata": {
        "id": "slvgaz51ShOI"
      },
      "source": [
        "1.    Construct the Pareto optimal curve for $\\lambda \\in [0.01,1000]$ (use a logarithmic spacing with 100 points). The plot should have $\\bar{p}^\\top x_{opt}$ (mean return) on the $y$ axis and $\\sqrt{x_{opt}^\\top \\Sigma x_{opt}}$ (standard deviation) on the $x$ axis.\n",
        "2.    Explain the meaning of the left-most point of the Pareto optimal curve.\n",
        "3.    Explain the meaning of the right-most point of the Pareto optimal curve.\n",
        "4.    For each of the following points ($+/- 0.001$) in the plot, establish and explain whether they are optimal, non-optimal or infeasible:\n",
        "    *    Standard deviation: $0.1$, Mean return: $0.108$\n",
        "    *    Standard deviation: $0.05$, Mean return: $0.12$\n",
        "    *    Standard deviation: $0.12$, Mean return: $0.05$"
      ]
    },
    {
      "cell_type": "markdown",
      "metadata": {
        "id": "0CxbzbQcUmFK"
      },
      "source": [
        "# Solution"
      ]
    },
    {
      "cell_type": "code",
      "execution_count": null,
      "metadata": {
        "id": "n_bdQkhwRbIv"
      },
      "outputs": [],
      "source": [
        "#Declare the values for lambda, the variable and the objectives\n",
        "samples = 100\n",
        "lmb_vals = np.logspace(-2, 3, num=samples)\n",
        "\n",
        "p = cp.Variable(n)\n",
        "ret = bar_p.T@p\n",
        "risk = cp.quad_form(p, Sigma)"
      ]
    },
    {
      "cell_type": "code",
      "execution_count": null,
      "metadata": {
        "id": "bgCYUSE8Rmtk"
      },
      "outputs": [],
      "source": [
        "#Solve the problem for all values of lambda\n",
        "risk_data = np.zeros(samples)\n",
        "ret_data = np.zeros(samples)\n",
        "\n",
        "for i in range(samples):\n",
        "  prob = cp.Problem(cp.Maximize(ret - lmb_vals[i]*risk),[cp.sum(p) == 1,p >= 0])\n",
        "  prob.solve()\n",
        "  risk_data[i] = cp.sqrt(risk).value\n",
        "  ret_data[i] = ret.value"
      ]
    },
    {
      "cell_type": "code",
      "execution_count": null,
      "metadata": {
        "colab": {
          "base_uri": "https://localhost:8080/",
          "height": 279
        },
        "id": "fX8CFdzAHZiv",
        "outputId": "4a9b490b-590b-41f2-8dff-253381ce7bcc"
      },
      "outputs": [
        {
          "data": {
            "image/png": "[encoded data removed]",
            "text/plain": [
              "<Figure size 432x288 with 1 Axes>"
            ]
          },
          "metadata": {
            "needs_background": "light"
          },
          "output_type": "display_data"
        }
      ],
      "source": [
        "# Plot the optimal trade-off curve.\n",
        "import matplotlib.pyplot as plt\n",
        "\n",
        "plt.plot(risk_data, ret_data, 'g-')\n",
        "plt.plot(0.1,0.108,\"ro\")\n",
        "plt.plot(0.05,0.12,\"ro\")\n",
        "plt.plot(0.12,0.05,\"ro\")\n",
        "plt.xlabel('Standard deviation')\n",
        "plt.ylabel('Return')\n",
        "plt.show()"
      ]
    },
    {
      "cell_type": "markdown",
      "metadata": {
        "id": "Ur2Fhrjg5cik"
      },
      "source": [
        "*   The left-most point correspond to $0$ risk and $3\\%$ return. So this corresponds to investing only in asset 4 and indicates a completely risk-averse approach.\n",
        "*   The right-most point correspond to $20\\%$ risk and $12\\%$ return. So this corresponds to investing only in asset 1 and indicates a greedy high risk-tolerant approach.\n",
        "*   The point $(0.1,0.108)$ is on the trade-off curve, so it is pareto optimal.\n",
        "*   The point $(0.05,0.12)$ is above the trade-off curve. This point is not achievevable, so it correspond to an infeasible point.\n",
        "*   The point $(0.12,0.05)$ is below the trade-off curve, so it is suboptimal. For instance the point $(0.12,\\approx 0.11)$ achieves more return for the same risk, while the point $(\\approx 0.025, 0.05)$ achieves the same return but for less risk.\n"
      ]
    }
  ],
  "metadata": {
    "colab": {
      "provenance": []
    },
    "kernelspec": {
      "display_name": "Python 3",
      "name": "python3"
    },
    "language_info": {
      "name": "python"
    }
  },
  "nbformat": 4,
  "nbformat_minor": 0
}
