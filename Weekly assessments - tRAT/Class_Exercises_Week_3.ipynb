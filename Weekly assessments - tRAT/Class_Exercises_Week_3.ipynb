{
  "cells": [
    {
      "cell_type": "markdown",
      "metadata": {
        "id": "pGV0eXzKlRtr"
      },
      "source": [
        "# Class Exercises - Week 3"
      ]
    },
    {
      "cell_type": "markdown",
      "metadata": {
        "id": "zvITAchN7ojf"
      },
      "source": [
        "---\n",
        "---\n",
        "\n",
        "**Author:** Dr Giordano Scarciotti (g.scarciotti@imperial.ac.uk) - Imperial College London\n",
        "\n",
        "**Module:** ELEC70066 - Applied Advanced Optimisation\n",
        "\n",
        "**Version:** 1.1.1 - 23/01/2025\n",
        "\n",
        "---\n",
        "---"
      ]
    },
    {
      "cell_type": "markdown",
      "metadata": {
        "id": "WbZmF5-3lUfz"
      },
      "source": [
        "**Reminder:** The solutions of some these exercises may be found online. Do not look for the solutions, but ask for help to me or the GTA. Your assessment will not have a solution available online so it is of paramount importance that you learn how to solve the problems without relying on a solution being available.\n",
        "\n",
        "The solutions of these exercises will be discussed at the end of the session. Moreover, the complete solution will be provided to you after 1 week. **N.B.** **Do not share the solutions online**"
      ]
    },
    {
      "cell_type": "markdown",
      "metadata": {
        "id": "pDw-yMbflXjC"
      },
      "source": [
        "## Exercise 1"
      ]
    },
    {
      "cell_type": "markdown",
      "metadata": {
        "id": "9yE_ud4oBhtJ"
      },
      "source": [
        "Two investments are made, with random returns $R_1$ and $R_2$. The total return for the two investments is $R_1 + R_2$, and the probability of a loss (including breaking even, i.e., $R_1+R_2=0$) is $p^{loss} = \\textbf{prob}(R_1 + R_2 \\le 0)$. The goal is to find the worst-case (i.e., maximum possible) value of $p^{loss}$ consistent with the following information.\n",
        "\n",
        "We discretize the values that $R_1$ and $R_2$ can take to $n=100$ possible values $r_1$, ..., $r_n$, uniformly spaced from $r_1 = -35$ to $r_n = +75$. $R_1$ and $R_2$ are assumed to have Gaussian [marginal distributions](https://en.wikipedia.org/wiki/Marginal_distribution) with known means $\\mu_1$ and $\\mu_2$ and known standard deviations $\\sigma_1$ and $\\sigma_2$. Hence, the discretized marginals $p^{(1)}$ and $p^{(2)}$ for $R_1$ and $R_2$ are given by\n",
        "\n",
        "$$\n",
        "\\displaystyle p_i^{(k)} = \\textbf{prob}(R_k = r_i) = \\frac{\\displaystyle e^{ \\frac{-(r_i - \\mu_k)^2}{2\\sigma_k^2}}}{\\displaystyle \\sum_{j=1}^n e^{ \\frac{-(r_j - \\mu_k)^2}{2\\sigma_k^2}}}\n",
        "$$\n",
        "\n",
        "for $k = 1,2$ and $i = 1, ..., n$. In addition it is known that $R_1$ and $R_2$ are correlated with [correlation coefficient](https://en.wikipedia.org/wiki/Correlation#Pearson's_product-moment_coefficient) $\\rho$, which means that\n",
        "\n",
        "$$\n",
        "\\sum_{i,j} (r_i - \\mu_1) \\cdot \\textbf{prob}(R_1 = r_i , R_2 = r_j) \\cdot (r_j - \\mu_2) = \\rho \\sigma_1 \\sigma_2\n",
        "$$\n",
        "\n",
        "\n",
        "Consider the data $\\mu_1 =9$, $\\mu_2 = 22$, $\\sigma_1 = 7$, $\\sigma_2 = 19$ and $\\rho = -0.35$.\n",
        "\n"
      ]
    },
    {
      "cell_type": "code",
      "execution_count": 1,
      "metadata": {
        "id": "5tw5NMxw5EDv"
      },
      "outputs": [],
      "source": [
        "import cvxpy as cp\n",
        "import numpy as np\n",
        "\n",
        "# Data\n",
        "n = 100\n",
        "rmin = -35\n",
        "rmax = 75\n",
        "\n",
        "mu1 = 9\n",
        "mu2 = 22\n",
        "sigma1 = 7\n",
        "sigma2 = 19\n",
        "rho = -0.35"
      ]
    },
    {
      "cell_type": "code",
      "execution_count": 35,
      "metadata": {},
      "outputs": [
        {
          "name": "stdout",
          "output_type": "stream",
          "text": [
            "None\n"
          ]
        }
      ],
      "source": [
        "R1 = np.linspace(rmin, rmax, n)\n",
        "R2 = np.linspace(rmin, rmax, n)\n",
        "\n",
        "def calculate_marginals(r, mu, sigma):\n",
        "    numerator = np.exp(-(r - mu)**2 / (2*sigma**2))\n",
        "    denominator = np.sum(numerator)\n",
        "    return numerator / denominator\n",
        "    \n",
        "p1 = calculate_marginals(R1, mu1, sigma1)\n",
        "p2 = calculate_marginals(R2, mu2, sigma2)\n",
        "\n",
        "def corr(P): \n",
        "    corr = 0\n",
        "    for i in range(100):\n",
        "        for j in range(100):\n",
        "            corr += (R1[i] - mu1) * P[i, j] *  (R2[j] - mu2)\n",
        "    return corr\n",
        "\n",
        "P = cp.Variable((n, n))\n",
        "constraints = [\n",
        "    cp.sum(P, axis=0) == p1,\n",
        "    cp.sum(P, axis=1) == p2, \n",
        "    corr(P) == rho * sigma1 * sigma2\n",
        "]\n",
        "\n",
        "def loss(P):\n",
        "    p_loss = 0\n",
        "    for i in range(n):\n",
        "        for j in range(n):\n",
        "            if (R1[i] + R2[j] <= 0): \n",
        "                p_loss += P[i, j]\n",
        "    return p_loss\n",
        "\n",
        "problem = cp.Problem(cp.Maximize(loss(P)), constraints)\n",
        "\n",
        "problem.solve()\n",
        "print(P.value)\n"
      ]
    },
    {
      "cell_type": "markdown",
      "metadata": {
        "id": "N7r6AW-W6B7E"
      },
      "source": [
        "**Formulate the problem as a convex optimisation problem and solve it.**\n",
        "* (*Extra - IGNORE this sentence unless you finish*) You may compare your result with the case in which $R_1$ and $R_2$ are jointly Gaussian, i.e. $R_1+R_2\\sim\\mathcal{N}(\\mu_1+\\mu_2,\\sigma_1^2+\\sigma_2^2+2\\rho\\sigma_1\\sigma_2)$. In that case the probabilities are uniquely identified by the Gaussian cumulative distribution, so there is no optimisation to do and the loss can be computed directly with a single `scipy.stats` function."
      ]
    },
    {
      "cell_type": "markdown",
      "metadata": {
        "id": "g1iwrt9w5Cw1"
      },
      "source": [
        "**N.B.** Think. This exercise is not straightforward, but you have one hour to solve it. When in doubt ask for help. Depending on how much time you have left, we will provide help to let all groups reach the solution by the end of the hour.\n",
        "\n",
        "Below there are two hints. If you click on them, they will expland and you will be able to read them. Use them if you need.\n",
        "\n",
        "Before starting coding try to write with pen and paper the problem. Start with the constraints and follow with the objective function. If you are unsure about what the variable of the problem is, check Hint 1.\n"
      ]
    },
    {
      "cell_type": "markdown",
      "metadata": {
        "id": "NUUexnUV3SwI"
      },
      "source": [
        "### Hint 1: I do not know what the variable of the problem is"
      ]
    },
    {
      "cell_type": "markdown",
      "metadata": {
        "id": "049D_6394dt-"
      },
      "source": [
        "The variable of your problem is $P$, which is the matrix of joint probabilities defined as $P_{ij} = \\textbf{prob}(R_1 = r_i, R_2 = r_j)$."
      ]
    },
    {
      "cell_type": "markdown",
      "metadata": {
        "id": "UCEIM3VB4q7F"
      },
      "source": [
        "### Hint 2: Help on some constraints"
      ]
    },
    {
      "cell_type": "markdown",
      "metadata": {
        "id": "YSQSgpdL4tuW"
      },
      "source": [
        "The marginals $p^{(1)}$, $p^{(2)}$ are related to the joint probability matrix $P$ by summation along the two axis of the matrix."
      ]
    },
    {
      "cell_type": "markdown",
      "metadata": {
        "id": "KB0M01hTEt8b"
      },
      "source": [
        "## Exercise 2"
      ]
    },
    {
      "cell_type": "markdown",
      "metadata": {
        "id": "d4n_4LBaRVg-"
      },
      "source": [
        "Determine whether the following sets are convex or not:\n",
        "\n",
        "1.   A slab, i.e. a set of the form $\\{x \\in \\mathbb{R}^n : \\alpha \\le a^\\top x \\le \\beta \\}$.\n",
        "2.   A rectangle, i.e. a set of the form $\\{x \\in \\mathbb{R}^n : \\alpha_i \\le  x_i \\le \\beta_i, \\, i=1,\\dots n \\}$.\n",
        "3.   A wedge, i.e. $\\{x \\in \\mathbb{R}^n : a_1^\\top x \\le b_1, a_2^\\top x \\le b_2\\}$.\n",
        "4.   Consider two fixed points $x_0$ and $x_1$. Show that the set $\\{x: ||x-x_0||_2 \\le ||x-x_1||_2 \\}$ is a halfspace.\n",
        "\n",
        "5.   The set of points closer to a given point than a given set, i.e.$\\{ x : ||x-x_0||_2 \\le || x - y ||_2 \\text{ for all }y\\in S\\}$ where $S \\subseteq{R}^n$\n",
        "\n",
        "6.   The set of points closer to one set than another, i.e.$\\{ x: \\textbf{dist}(x,S) \\le \\textbf{dist}(x,T) \\}$ where $S,T \\subseteq \\mathbb{R}^n$ and $ \\textbf{dist}(x,S) = \\inf\\{||x-z||_2 : z \\in S \\}.$\n",
        "\n",
        "7. The set $\\{ x : x + S_2 \\subseteq S_1 \\}$, where $S_1,S_2 \\subseteq \\mathbb{R}^n$ with $S_1$ convex.\n",
        "\n"
      ]
    },
    {
      "cell_type": "markdown",
      "metadata": {
        "id": "Opp-e73KUyTf"
      },
      "source": [
        "## Exercise 3"
      ]
    },
    {
      "cell_type": "markdown",
      "metadata": {
        "id": "bUiYv1nqU0d_"
      },
      "source": [
        "Show that if $S_1$ and $S_2$ are convex sets in $\\mathbb{R}^{m+n}$, then so is their partial sum\n",
        "\n",
        "$$\n",
        "S = \\{(x, y_1 + y_2) : x \\in \\mathbb{R}^m, y_1, y_2 \\in \\mathbb{R}^n, (x, y_1) \\in S_1, (x, y_2) \\in S_2\\}.\n",
        "$$"
      ]
    }
  ],
  "metadata": {
    "colab": {
      "collapsed_sections": [
        "rM0WHs9UnfQ4",
        "NUUexnUV3SwI",
        "UCEIM3VB4q7F"
      ],
      "provenance": []
    },
    "kernelspec": {
      "display_name": "Python 3",
      "name": "python3"
    },
    "language_info": {
      "codemirror_mode": {
        "name": "ipython",
        "version": 3
      },
      "file_extension": ".py",
      "mimetype": "text/x-python",
      "name": "python",
      "nbconvert_exporter": "python",
      "pygments_lexer": "ipython3",
      "version": "3.10.11"
    }
  },
  "nbformat": 4,
  "nbformat_minor": 0
}
