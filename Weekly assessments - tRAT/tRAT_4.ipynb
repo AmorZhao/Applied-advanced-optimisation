{
  "cells": [
    {
      "cell_type": "markdown",
      "metadata": {
        "id": "G06UmgF0s4bb"
      },
      "source": [
        "# tRAT 4"
      ]
    },
    {
      "cell_type": "markdown",
      "metadata": {
        "id": "s8mlE0lEs0qK"
      },
      "source": [
        "---\n",
        "---\n",
        "\n",
        "**Author:** Dr Giordano Scarciotti (g.scarciotti@imperial.ac.uk) - Imperial College London\n",
        "\n",
        "**Module:** ELEC70066 - Applied Advanced Optimisation\n",
        "\n",
        "**Version:** 1.1.3 - 06/02/2025\n",
        "\n",
        "---\n",
        "---"
      ]
    },
    {
      "cell_type": "markdown",
      "metadata": {
        "id": "BWt_sMoL50Ka"
      },
      "source": [
        "## IMPORTANT: Write the number of your group here:"
      ]
    },
    {
      "cell_type": "markdown",
      "metadata": {
        "id": "5NmRJCRIs0-W"
      },
      "source": [
        "# IMPORTANT: read this"
      ]
    },
    {
      "cell_type": "markdown",
      "metadata": {
        "id": "quRFYRhZe2HI"
      },
      "source": [
        "This test has a long explanation, but the coding part is very brief. Make sure you understand the text."
      ]
    },
    {
      "cell_type": "markdown",
      "metadata": {
        "id": "Gaa4y9o5PUYA"
      },
      "source": [
        "It turns out that CVXPY usually is not able to solve quasiconvex optimisation problems in the way you have just done, because CVXPY does not always recognise the transformed feasibility problem as convex (i.e. even if you prove its sublevel sets are convex, CVXPY may not know this and thinks that the problem is not convex).\n",
        "\n",
        "The reason the problem that you have just solved worked is because for that special case the transformed problem is just an LP, which CVXPY recognises as convex.\n",
        "\n",
        "Despite this, CVXPY can solve some quasiconvex optimisation problems directly, by using a specially designed quasiconvex solver, on specially designed quasiconvex atoms. This solver does nothing else than using the bisection algorithm, but it is capable of recognising some classes of quasiconvex problems. For instance consider the problem"
      ]
    },
    {
      "cell_type": "markdown",
      "metadata": {
        "id": "Z1-xHSxQRaTW"
      },
      "source": [
        "$$\n",
        "\\begin{array}{ll}\n",
        "\\displaystyle \\max_{x} &  \\displaystyle \\frac{\\sqrt{x}}{e^x}\n",
        "\\end{array} \\tag{1}\n",
        "$$"
      ]
    },
    {
      "cell_type": "markdown",
      "metadata": {
        "id": "0NfZgv0WRpBx"
      },
      "source": [
        "This is a quasiconvex problem because $\\frac{\\sqrt{x}}{e^x}$ is a quasiconcave function, as the graph below shows."
      ]
    },
    {
      "cell_type": "code",
      "execution_count": 1,
      "metadata": {
        "colab": {
          "base_uri": "https://localhost:8080/",
          "height": 430
        },
        "id": "qGHiQNnSRoHA",
        "outputId": "c880f9a0-503a-4650-f681-94befa7708aa"
      },
      "outputs": [
        {
          "data": {
            "image/svg+xml": [
              "<?xml version=\"1.0\" encoding=\"utf-8\" standalone=\"no\"?>\n",
              "<!DOCTYPE svg PUBLIC \"-//W3C//DTD SVG 1.1//EN\"\n",
              "  \"http://www.w3.org/Graphics/SVG/1.1/DTD/svg11.dtd\">\n",
              "<svg xmlns:xlink=\"http://www.w3.org/1999/xlink\" width=\"394.423125pt\" height=\"297.190125pt\" viewBox=\"0 0 394.423125 297.190125\" xmlns=\"http://www.w3.org/2000/svg\" version=\"1.1\">\n",
              " <metadata>\n",
              "  <rdf:RDF xmlns:dc=\"http://purl.org/dc/elements/1.1/\" xmlns:cc=\"http://creativecommons.org/ns#\" xmlns:rdf=\"http://www.w3.org/1999/02/22-rdf-syntax-ns#\">\n",
              "   <cc:Work>\n",
              "    <dc:type rdf:resource=\"http://purl.org/dc/dcmitype/StillImage\"/>\n",
              "    <dc:date>2025-02-07T12:20:37.271848</dc:date>\n",
              "    <dc:format>image/svg+xml</dc:format>\n",
              "    <dc:creator>\n",
              "     <cc:Agent>\n",
              "      <dc:title>Matplotlib v3.8.0, https://matplotlib.org/</dc:title>\n",
              "     </cc:Agent>\n",
              "    </dc:creator>\n",
              "   </cc:Work>\n",
              "  </rdf:RDF>\n",
              " </metadata>\n",
              " <defs>\n",
              "  <style type=\"text/css\">*{stroke-linejoin: round; stroke-linecap: butt}</style>\n",
              " </defs>\n",
              " <g id=\"figure_1\">\n",
              "  <g id=\"patch_1\">\n",
              "   <path d=\"M 0 297.190125 \n",
              "L 394.423125 297.190125 \n",
              "L 394.423125 0 \n",
              "L 0 0 \n",
              "z\n",
              "\" style=\"fill: #ffffff\"/>\n",
              "  </g>\n",
              "  <g id=\"axes_1\">\n",
              "   <g id=\"patch_2\">\n",
              "    <path d=\"M 30.103125 273.312 \n",
              "L 387.223125 273.312 \n",
              "L 387.223125 7.2 \n",
              "L 30.103125 7.2 \n",
              "z\n",
              "\" style=\"fill: #ffffff\"/>\n",
              "   </g>\n",
              "   <g id=\"matplotlib.axis_1\">\n",
              "    <g id=\"xtick_1\">\n",
              "     <g id=\"line2d_1\">\n",
              "      <defs>\n",
              "       <path id=\"m1e8d8d621a\" d=\"M 0 0 \n",
              "L 0 3.5 \n",
              "\" style=\"stroke: #000000; stroke-width: 0.8\"/>\n",
              "      </defs>\n",
              "      <g>\n",
              "       <use xlink:href=\"#m1e8d8d621a\" x=\"46.335852\" y=\"273.312\" style=\"stroke: #000000; stroke-width: 0.8\"/>\n",
              "      </g>\n",
              "     </g>\n",
              "     <g id=\"text_1\">\n",
              "      <!-- 0 -->\n",
              "      <g transform=\"translate(43.154602 287.910437) scale(0.1 -0.1)\">\n",
              "       <defs>\n",
              "        <path id=\"DejaVuSans-30\" d=\"M 2034 4250 \n",
              "Q 1547 4250 1301 3770 \n",
              "Q 1056 3291 1056 2328 \n",
              "Q 1056 1369 1301 889 \n",
              "Q 1547 409 2034 409 \n",
              "Q 2525 409 2770 889 \n",
              "Q 3016 1369 3016 2328 \n",
              "Q 3016 3291 2770 3770 \n",
              "Q 2525 4250 2034 4250 \n",
              "z\n",
              "M 2034 4750 \n",
              "Q 2819 4750 3233 4129 \n",
              "Q 3647 3509 3647 2328 \n",
              "Q 3647 1150 3233 529 \n",
              "Q 2819 -91 2034 -91 \n",
              "Q 1250 -91 836 529 \n",
              "Q 422 1150 422 2328 \n",
              "Q 422 3509 836 4129 \n",
              "Q 1250 4750 2034 4750 \n",
              "z\n",
              "\" transform=\"scale(0.015625)\"/>\n",
              "       </defs>\n",
              "       <use xlink:href=\"#DejaVuSans-30\"/>\n",
              "      </g>\n",
              "     </g>\n",
              "    </g>\n",
              "    <g id=\"xtick_2\">\n",
              "     <g id=\"line2d_2\">\n",
              "      <g>\n",
              "       <use xlink:href=\"#m1e8d8d621a\" x=\"112.591882\" y=\"273.312\" style=\"stroke: #000000; stroke-width: 0.8\"/>\n",
              "      </g>\n",
              "     </g>\n",
              "     <g id=\"text_2\">\n",
              "      <!-- 10 -->\n",
              "      <g transform=\"translate(106.229382 287.910437) scale(0.1 -0.1)\">\n",
              "       <defs>\n",
              "        <path id=\"DejaVuSans-31\" d=\"M 794 531 \n",
              "L 1825 531 \n",
              "L 1825 4091 \n",
              "L 703 3866 \n",
              "L 703 4441 \n",
              "L 1819 4666 \n",
              "L 2450 4666 \n",
              "L 2450 531 \n",
              "L 3481 531 \n",
              "L 3481 0 \n",
              "L 794 0 \n",
              "L 794 531 \n",
              "z\n",
              "\" transform=\"scale(0.015625)\"/>\n",
              "       </defs>\n",
              "       <use xlink:href=\"#DejaVuSans-31\"/>\n",
              "       <use xlink:href=\"#DejaVuSans-30\" x=\"63.623047\"/>\n",
              "      </g>\n",
              "     </g>\n",
              "    </g>\n",
              "    <g id=\"xtick_3\">\n",
              "     <g id=\"line2d_3\">\n",
              "      <g>\n",
              "       <use xlink:href=\"#m1e8d8d621a\" x=\"178.847912\" y=\"273.312\" style=\"stroke: #000000; stroke-width: 0.8\"/>\n",
              "      </g>\n",
              "     </g>\n",
              "     <g id=\"text_3\">\n",
              "      <!-- 20 -->\n",
              "      <g transform=\"translate(172.485412 287.910437) scale(0.1 -0.1)\">\n",
              "       <defs>\n",
              "        <path id=\"DejaVuSans-32\" d=\"M 1228 531 \n",
              "L 3431 531 \n",
              "L 3431 0 \n",
              "L 469 0 \n",
              "L 469 531 \n",
              "Q 828 903 1448 1529 \n",
              "Q 2069 2156 2228 2338 \n",
              "Q 2531 2678 2651 2914 \n",
              "Q 2772 3150 2772 3378 \n",
              "Q 2772 3750 2511 3984 \n",
              "Q 2250 4219 1831 4219 \n",
              "Q 1534 4219 1204 4116 \n",
              "Q 875 4013 500 3803 \n",
              "L 500 4441 \n",
              "Q 881 4594 1212 4672 \n",
              "Q 1544 4750 1819 4750 \n",
              "Q 2544 4750 2975 4387 \n",
              "Q 3406 4025 3406 3419 \n",
              "Q 3406 3131 3298 2873 \n",
              "Q 3191 2616 2906 2266 \n",
              "Q 2828 2175 2409 1742 \n",
              "Q 1991 1309 1228 531 \n",
              "z\n",
              "\" transform=\"scale(0.015625)\"/>\n",
              "       </defs>\n",
              "       <use xlink:href=\"#DejaVuSans-32\"/>\n",
              "       <use xlink:href=\"#DejaVuSans-30\" x=\"63.623047\"/>\n",
              "      </g>\n",
              "     </g>\n",
              "    </g>\n",
              "    <g id=\"xtick_4\">\n",
              "     <g id=\"line2d_4\">\n",
              "      <g>\n",
              "       <use xlink:href=\"#m1e8d8d621a\" x=\"245.103941\" y=\"273.312\" style=\"stroke: #000000; stroke-width: 0.8\"/>\n",
              "      </g>\n",
              "     </g>\n",
              "     <g id=\"text_4\">\n",
              "      <!-- 30 -->\n",
              "      <g transform=\"translate(238.741441 287.910437) scale(0.1 -0.1)\">\n",
              "       <defs>\n",
              "        <path id=\"DejaVuSans-33\" d=\"M 2597 2516 \n",
              "Q 3050 2419 3304 2112 \n",
              "Q 3559 1806 3559 1356 \n",
              "Q 3559 666 3084 287 \n",
              "Q 2609 -91 1734 -91 \n",
              "Q 1441 -91 1130 -33 \n",
              "Q 819 25 488 141 \n",
              "L 488 750 \n",
              "Q 750 597 1062 519 \n",
              "Q 1375 441 1716 441 \n",
              "Q 2309 441 2620 675 \n",
              "Q 2931 909 2931 1356 \n",
              "Q 2931 1769 2642 2001 \n",
              "Q 2353 2234 1838 2234 \n",
              "L 1294 2234 \n",
              "L 1294 2753 \n",
              "L 1863 2753 \n",
              "Q 2328 2753 2575 2939 \n",
              "Q 2822 3125 2822 3475 \n",
              "Q 2822 3834 2567 4026 \n",
              "Q 2313 4219 1838 4219 \n",
              "Q 1578 4219 1281 4162 \n",
              "Q 984 4106 628 3988 \n",
              "L 628 4550 \n",
              "Q 988 4650 1302 4700 \n",
              "Q 1616 4750 1894 4750 \n",
              "Q 2613 4750 3031 4423 \n",
              "Q 3450 4097 3450 3541 \n",
              "Q 3450 3153 3228 2886 \n",
              "Q 3006 2619 2597 2516 \n",
              "z\n",
              "\" transform=\"scale(0.015625)\"/>\n",
              "       </defs>\n",
              "       <use xlink:href=\"#DejaVuSans-33\"/>\n",
              "       <use xlink:href=\"#DejaVuSans-30\" x=\"63.623047\"/>\n",
              "      </g>\n",
              "     </g>\n",
              "    </g>\n",
              "    <g id=\"xtick_5\">\n",
              "     <g id=\"line2d_5\">\n",
              "      <g>\n",
              "       <use xlink:href=\"#m1e8d8d621a\" x=\"311.359971\" y=\"273.312\" style=\"stroke: #000000; stroke-width: 0.8\"/>\n",
              "      </g>\n",
              "     </g>\n",
              "     <g id=\"text_5\">\n",
              "      <!-- 40 -->\n",
              "      <g transform=\"translate(304.997471 287.910437) scale(0.1 -0.1)\">\n",
              "       <defs>\n",
              "        <path id=\"DejaVuSans-34\" d=\"M 2419 4116 \n",
              "L 825 1625 \n",
              "L 2419 1625 \n",
              "L 2419 4116 \n",
              "z\n",
              "M 2253 4666 \n",
              "L 3047 4666 \n",
              "L 3047 1625 \n",
              "L 3713 1625 \n",
              "L 3713 1100 \n",
              "L 3047 1100 \n",
              "L 3047 0 \n",
              "L 2419 0 \n",
              "L 2419 1100 \n",
              "L 313 1100 \n",
              "L 313 1709 \n",
              "L 2253 4666 \n",
              "z\n",
              "\" transform=\"scale(0.015625)\"/>\n",
              "       </defs>\n",
              "       <use xlink:href=\"#DejaVuSans-34\"/>\n",
              "       <use xlink:href=\"#DejaVuSans-30\" x=\"63.623047\"/>\n",
              "      </g>\n",
              "     </g>\n",
              "    </g>\n",
              "    <g id=\"xtick_6\">\n",
              "     <g id=\"line2d_6\">\n",
              "      <g>\n",
              "       <use xlink:href=\"#m1e8d8d621a\" x=\"377.616001\" y=\"273.312\" style=\"stroke: #000000; stroke-width: 0.8\"/>\n",
              "      </g>\n",
              "     </g>\n",
              "     <g id=\"text_6\">\n",
              "      <!-- 50 -->\n",
              "      <g transform=\"translate(371.253501 287.910437) scale(0.1 -0.1)\">\n",
              "       <defs>\n",
              "        <path id=\"DejaVuSans-35\" d=\"M 691 4666 \n",
              "L 3169 4666 \n",
              "L 3169 4134 \n",
              "L 1269 4134 \n",
              "L 1269 2991 \n",
              "Q 1406 3038 1543 3061 \n",
              "Q 1681 3084 1819 3084 \n",
              "Q 2600 3084 3056 2656 \n",
              "Q 3513 2228 3513 1497 \n",
              "Q 3513 744 3044 326 \n",
              "Q 2575 -91 1722 -91 \n",
              "Q 1428 -91 1123 -41 \n",
              "Q 819 9 494 109 \n",
              "L 494 744 \n",
              "Q 775 591 1075 516 \n",
              "Q 1375 441 1709 441 \n",
              "Q 2250 441 2565 725 \n",
              "Q 2881 1009 2881 1497 \n",
              "Q 2881 1984 2565 2268 \n",
              "Q 2250 2553 1709 2553 \n",
              "Q 1456 2553 1204 2497 \n",
              "Q 953 2441 691 2322 \n",
              "L 691 4666 \n",
              "z\n",
              "\" transform=\"scale(0.015625)\"/>\n",
              "       </defs>\n",
              "       <use xlink:href=\"#DejaVuSans-35\"/>\n",
              "       <use xlink:href=\"#DejaVuSans-30\" x=\"63.623047\"/>\n",
              "      </g>\n",
              "     </g>\n",
              "    </g>\n",
              "   </g>\n",
              "   <g id=\"matplotlib.axis_2\">\n",
              "    <g id=\"ytick_1\">\n",
              "     <g id=\"line2d_7\">\n",
              "      <defs>\n",
              "       <path id=\"m9dee5f3473\" d=\"M 0 0 \n",
              "L -3.5 0 \n",
              "\" style=\"stroke: #000000; stroke-width: 0.8\"/>\n",
              "      </defs>\n",
              "      <g>\n",
              "       <use xlink:href=\"#m9dee5f3473\" x=\"30.103125\" y=\"261.216\" style=\"stroke: #000000; stroke-width: 0.8\"/>\n",
              "      </g>\n",
              "     </g>\n",
              "     <g id=\"text_7\">\n",
              "      <!-- 0.0 -->\n",
              "      <g transform=\"translate(7.2 265.015219) scale(0.1 -0.1)\">\n",
              "       <defs>\n",
              "        <path id=\"DejaVuSans-2e\" d=\"M 684 794 \n",
              "L 1344 794 \n",
              "L 1344 0 \n",
              "L 684 0 \n",
              "L 684 794 \n",
              "z\n",
              "\" transform=\"scale(0.015625)\"/>\n",
              "       </defs>\n",
              "       <use xlink:href=\"#DejaVuSans-30\"/>\n",
              "       <use xlink:href=\"#DejaVuSans-2e\" x=\"63.623047\"/>\n",
              "       <use xlink:href=\"#DejaVuSans-30\" x=\"95.410156\"/>\n",
              "      </g>\n",
              "     </g>\n",
              "    </g>\n",
              "    <g id=\"ytick_2\">\n",
              "     <g id=\"line2d_8\">\n",
              "      <g>\n",
              "       <use xlink:href=\"#m9dee5f3473\" x=\"30.103125\" y=\"204.262834\" style=\"stroke: #000000; stroke-width: 0.8\"/>\n",
              "      </g>\n",
              "     </g>\n",
              "     <g id=\"text_8\">\n",
              "      <!-- 0.1 -->\n",
              "      <g transform=\"translate(7.2 208.062053) scale(0.1 -0.1)\">\n",
              "       <use xlink:href=\"#DejaVuSans-30\"/>\n",
              "       <use xlink:href=\"#DejaVuSans-2e\" x=\"63.623047\"/>\n",
              "       <use xlink:href=\"#DejaVuSans-31\" x=\"95.410156\"/>\n",
              "      </g>\n",
              "     </g>\n",
              "    </g>\n",
              "    <g id=\"ytick_3\">\n",
              "     <g id=\"line2d_9\">\n",
              "      <g>\n",
              "       <use xlink:href=\"#m9dee5f3473\" x=\"30.103125\" y=\"147.309668\" style=\"stroke: #000000; stroke-width: 0.8\"/>\n",
              "      </g>\n",
              "     </g>\n",
              "     <g id=\"text_9\">\n",
              "      <!-- 0.2 -->\n",
              "      <g transform=\"translate(7.2 151.108887) scale(0.1 -0.1)\">\n",
              "       <use xlink:href=\"#DejaVuSans-30\"/>\n",
              "       <use xlink:href=\"#DejaVuSans-2e\" x=\"63.623047\"/>\n",
              "       <use xlink:href=\"#DejaVuSans-32\" x=\"95.410156\"/>\n",
              "      </g>\n",
              "     </g>\n",
              "    </g>\n",
              "    <g id=\"ytick_4\">\n",
              "     <g id=\"line2d_10\">\n",
              "      <g>\n",
              "       <use xlink:href=\"#m9dee5f3473\" x=\"30.103125\" y=\"90.356503\" style=\"stroke: #000000; stroke-width: 0.8\"/>\n",
              "      </g>\n",
              "     </g>\n",
              "     <g id=\"text_10\">\n",
              "      <!-- 0.3 -->\n",
              "      <g transform=\"translate(7.2 94.155721) scale(0.1 -0.1)\">\n",
              "       <use xlink:href=\"#DejaVuSans-30\"/>\n",
              "       <use xlink:href=\"#DejaVuSans-2e\" x=\"63.623047\"/>\n",
              "       <use xlink:href=\"#DejaVuSans-33\" x=\"95.410156\"/>\n",
              "      </g>\n",
              "     </g>\n",
              "    </g>\n",
              "    <g id=\"ytick_5\">\n",
              "     <g id=\"line2d_11\">\n",
              "      <g>\n",
              "       <use xlink:href=\"#m9dee5f3473\" x=\"30.103125\" y=\"33.403337\" style=\"stroke: #000000; stroke-width: 0.8\"/>\n",
              "      </g>\n",
              "     </g>\n",
              "     <g id=\"text_11\">\n",
              "      <!-- 0.4 -->\n",
              "      <g transform=\"translate(7.2 37.202556) scale(0.1 -0.1)\">\n",
              "       <use xlink:href=\"#DejaVuSans-30\"/>\n",
              "       <use xlink:href=\"#DejaVuSans-2e\" x=\"63.623047\"/>\n",
              "       <use xlink:href=\"#DejaVuSans-34\" x=\"95.410156\"/>\n",
              "      </g>\n",
              "     </g>\n",
              "    </g>\n",
              "   </g>\n",
              "   <g id=\"line2d_12\">\n",
              "    <path d=\"M 46.335852 261.216 \n",
              "L 52.961455 51.4243 \n",
              "L 59.587058 19.296 \n",
              "L 66.212661 19.622149 \n",
              "L 72.838264 33.746215 \n",
              "L 79.463867 53.845394 \n",
              "L 86.08947 75.988147 \n",
              "L 92.715073 98.080619 \n",
              "L 99.340676 119.01174 \n",
              "L 105.966279 138.229528 \n",
              "L 112.591882 155.508802 \n",
              "L 119.217485 170.815803 \n",
              "L 125.843088 184.226388 \n",
              "L 132.468691 195.87562 \n",
              "L 139.094294 205.926524 \n",
              "L 145.719897 214.550862 \n",
              "L 152.3455 221.917553 \n",
              "L 158.971103 228.186018 \n",
              "L 165.596706 233.502677 \n",
              "L 172.222309 237.999453 \n",
              "L 178.847912 241.793538 \n",
              "L 185.473515 244.98791 \n",
              "L 192.099118 247.672292 \n",
              "L 198.724721 249.924318 \n",
              "L 205.350324 251.810783 \n",
              "L 211.975926 253.388886 \n",
              "L 218.601529 254.707412 \n",
              "L 225.227132 255.807828 \n",
              "L 231.852735 256.725279 \n",
              "L 238.478338 257.489471 \n",
              "L 245.103941 258.125458 \n",
              "L 251.729544 258.654329 \n",
              "L 258.355147 259.093802 \n",
              "L 264.98075 259.458738 \n",
              "L 271.606353 259.761588 \n",
              "L 278.231956 260.012765 \n",
              "L 284.857559 260.22097 \n",
              "L 291.483162 260.393465 \n",
              "L 298.108765 260.536306 \n",
              "L 304.734368 260.654535 \n",
              "L 311.359971 260.752352 \n",
              "L 317.985574 260.833247 \n",
              "L 324.611177 260.900121 \n",
              "L 331.23678 260.955386 \n",
              "L 337.862383 261.001039 \n",
              "L 344.487986 261.038741 \n",
              "L 351.113589 261.069867 \n",
              "L 357.739192 261.095555 \n",
              "L 364.364795 261.116751 \n",
              "L 370.990398 261.134234 \n",
              "\" clip-path=\"url(#p08c4576ac1)\" style=\"fill: none; stroke: #1f77b4; stroke-width: 1.5; stroke-linecap: square\"/>\n",
              "   </g>\n",
              "   <g id=\"patch_3\">\n",
              "    <path d=\"M 30.103125 273.312 \n",
              "L 30.103125 7.2 \n",
              "\" style=\"fill: none; stroke: #000000; stroke-width: 0.8; stroke-linejoin: miter; stroke-linecap: square\"/>\n",
              "   </g>\n",
              "   <g id=\"patch_4\">\n",
              "    <path d=\"M 387.223125 273.312 \n",
              "L 387.223125 7.2 \n",
              "\" style=\"fill: none; stroke: #000000; stroke-width: 0.8; stroke-linejoin: miter; stroke-linecap: square\"/>\n",
              "   </g>\n",
              "   <g id=\"patch_5\">\n",
              "    <path d=\"M 30.103125 273.312 \n",
              "L 387.223125 273.312 \n",
              "\" style=\"fill: none; stroke: #000000; stroke-width: 0.8; stroke-linejoin: miter; stroke-linecap: square\"/>\n",
              "   </g>\n",
              "   <g id=\"patch_6\">\n",
              "    <path d=\"M 30.103125 7.2 \n",
              "L 387.223125 7.2 \n",
              "\" style=\"fill: none; stroke: #000000; stroke-width: 0.8; stroke-linejoin: miter; stroke-linecap: square\"/>\n",
              "   </g>\n",
              "  </g>\n",
              " </g>\n",
              " <defs>\n",
              "  <clipPath id=\"p08c4576ac1\">\n",
              "   <rect x=\"30.103125\" y=\"7.2\" width=\"357.12\" height=\"266.112\"/>\n",
              "  </clipPath>\n",
              " </defs>\n",
              "</svg>\n"
            ],
            "text/plain": [
              "<Figure size 640x480 with 1 Axes>"
            ]
          },
          "metadata": {},
          "output_type": "display_data"
        }
      ],
      "source": [
        "import cvxpy as cp\n",
        "import numpy as np\n",
        "import matplotlib.pyplot as plt\n",
        "import warnings\n",
        "warnings.filterwarnings(\"ignore\")\n",
        "plt.plot([np.sqrt(y) / np.exp(y) for y in np.linspace(0, 10)])\n",
        "plt.show()"
      ]
    },
    {
      "cell_type": "markdown",
      "metadata": {
        "id": "_futwxA4R-8w"
      },
      "source": [
        "Problem $(1)$ can be solved easily using the following code:"
      ]
    },
    {
      "cell_type": "code",
      "execution_count": 2,
      "metadata": {
        "colab": {
          "base_uri": "https://localhost:8080/"
        },
        "id": "WPqQNCf1SDbn",
        "outputId": "10861bb9-13f7-4685-9cb7-0c420836f8b5"
      },
      "outputs": [
        {
          "data": {
            "text/plain": [
              "0.42888194153257003"
            ]
          },
          "execution_count": 2,
          "metadata": {},
          "output_type": "execute_result"
        }
      ],
      "source": [
        "x = cp.Variable()\n",
        "problem = cp.Problem(cp.Maximize(cp.sqrt(x) / cp.exp(x)))\n",
        "problem.solve(qcp=True, solver='SCS') # We need to tell cvxpy that this is quasiconvex\n",
        "# and we need to pick a solver different from the default."
      ]
    },
    {
      "cell_type": "markdown",
      "metadata": {
        "id": "GPy4WFwtSLQ6"
      },
      "source": [
        "Note that in the code above we simply declared the objective function as we would normally do for a convex problem and we solved it with the command `problem.solve(qcp=True)`. This command is important because it tells CVXPY to use the quasiconvex solver."
      ]
    },
    {
      "cell_type": "markdown",
      "metadata": {
        "id": "vxEzRtT_aPiX"
      },
      "source": [
        "For the sake of clarity, note that this problem can be solved using bisection (like you did before) on a feasibility problem, but for more general problems (like the ones in the exercises below) CVXPY does not recognize that the feasibility problem is convex and you must use the quasiconvex solver."
      ]
    },
    {
      "cell_type": "code",
      "execution_count": 3,
      "metadata": {
        "colab": {
          "base_uri": "https://localhost:8080/"
        },
        "id": "0qIQPcuMajXh",
        "outputId": "d96809d7-29b8-4e88-ea01-1268fbd133b6"
      },
      "outputs": [
        {
          "name": "stdout",
          "output_type": "stream",
          "text": [
            "0.427703857421875\n"
          ]
        }
      ],
      "source": [
        "# Tolerance, upper and lower bound for the bisection\n",
        "u = 0\n",
        "l = -10\n",
        "tol = 0.0001\n",
        "\n",
        "# Bisection algorithm\n",
        "while u-l >= tol:\n",
        "  gamma = (l+u)/2\n",
        "  # Formulation and soluton of the feasibility problem\n",
        "  constr = [-cp.sqrt(x)<=gamma*cp.exp(x),x>=0]\n",
        "  prob = cp.Problem(cp.Minimize(0),constr)\n",
        "  prob.solve(solver='SCS')\n",
        "\n",
        "  if prob.status == 'optimal':\n",
        "    u=gamma\n",
        "    x_opt=x.value\n",
        "    objval_opt=gamma\n",
        "  else:\n",
        "    l=gamma\n",
        "\n",
        "print(-objval_opt)"
      ]
    },
    {
      "cell_type": "markdown",
      "metadata": {
        "id": "z-vpEwc_TZH0"
      },
      "source": [
        "# Exercise 1"
      ]
    },
    {
      "cell_type": "markdown",
      "metadata": {
        "id": "4A49lAwnVecy"
      },
      "source": [
        "Consider the problem of minimising the ratio of the Eucliden distance from $a$ over the Eucliden distance from $b$, namely\n",
        "\n",
        "$$\n",
        "\\min \\quad \\frac{||x-a||_2}{||x-b||_2}\n",
        "$$\n",
        "\n",
        "This is a quasiconvex optimisation problem.\n",
        "\n",
        "*   Solve it with the data given below. Note that you need to use the [quasiconvex atom](https://www.cvxpy.org/tutorial/dqcp/index.html?highlight=dist_ratio#dqcp-atoms) `cvxpy.dist_ratio(x, a, b)` which denotes the function $\\frac{||x-a||_2}{||x-b||_2}$.\n",
        "*   Print the optimal ratio.\n",
        "*   Print the optimal $x$."
      ]
    },
    {
      "cell_type": "code",
      "execution_count": 11,
      "metadata": {
        "id": "wNnPfTSYWYV5"
      },
      "outputs": [
        {
          "name": "stdout",
          "output_type": "stream",
          "text": [
            "[ 1.33557495 -0.08472738 -0.47667144 -1.04342027  0.6132454  -2.16165332\n",
            "  1.91759582 -0.57249136  0.33019907 -0.42873232]\n",
            "0.21931816437803364\n"
          ]
        }
      ],
      "source": [
        "# Data\n",
        "n = 10\n",
        "np.random.seed(1)\n",
        "a = np.random.randn(n)\n",
        "b = np.random.randn(n)\n",
        "\n",
        "x = cp.Variable(n)\n",
        "\n",
        "objective = cp.Minimize(cp.dist_ratio(x, a, b))\n",
        "\n",
        "constraints = []\n",
        "problem  = cp.Problem(objective, constraints)\n",
        "problem.solve(qcp=True, solver='SCS')\n",
        "\n",
        "print(x.value)\n",
        "print(problem.value)"
      ]
    },
    {
      "cell_type": "markdown",
      "metadata": {
        "id": "0CxbzbQcUmFK"
      },
      "source": [
        "# Exercise 2"
      ]
    },
    {
      "cell_type": "markdown",
      "metadata": {
        "id": "LnI8eapHWi-r"
      },
      "source": [
        "Consider the problem of finding the *minimum-length* least squares approximation of a vector $b$. The length of a vector in $\\mathbb{R}^n$ is defined as the largest index corresponding to a nonzero component:\n",
        "\n",
        "$$\n",
        "\\text{len}(x) = \\max\\{i : x_i \\ne 0\\}.\n",
        "$$\n",
        "\n",
        "This function is quasiconvex on $\\mathbb{R}^n$ because its sublevel sets are subspaces and it is implemented in CVXPY by the atom `cvxpy.length(x)`. The problem can be formulated as\n",
        "\n",
        "$$\n",
        "\\begin{array}{ll}\n",
        "\\displaystyle \\min_{x} &  \\text{len} (x) \\\\\n",
        "\\text{s.t. } & \\frac{1}{n}||Ax-b||_2^2 \\le \\varepsilon.\n",
        "\\end{array}\n",
        "$$\n",
        "\n",
        "where $\\frac{1}{n}||Ax-b||_2^2$ is the Mean-Square Error (MSE).\n",
        "\n",
        "The data of the problem is\n"
      ]
    },
    {
      "cell_type": "code",
      "execution_count": 12,
      "metadata": {
        "id": "tc3x2lsPYWZl"
      },
      "outputs": [],
      "source": [
        "# Data\n",
        "n = 10\n",
        "np.random.seed(1)\n",
        "A = np.random.randn(n, n)\n",
        "b = A @ np.random.randn(n)\n",
        "epsilon = 1e-2"
      ]
    },
    {
      "cell_type": "markdown",
      "metadata": {
        "id": "mBXNwin3WjBi"
      },
      "source": [
        "\n",
        "\n",
        "*   Solve the problem and print the optimal length\n",
        "*   Print the optimal MSE\n",
        "*   Print the optimal $x$ rounded to two decimal digits\n",
        "\n"
      ]
    },
    {
      "cell_type": "code",
      "execution_count": 19,
      "metadata": {},
      "outputs": [
        {
          "name": "stdout",
          "output_type": "stream",
          "text": [
            "Optimal length 8.0\n",
            "MSE 0.009260091868725888\n",
            "[-0.26  1.38  0.21  0.94 -1.15  0.15  0.66 -1.16 -0.    0.  ]\n"
          ]
        }
      ],
      "source": [
        "x = cp.Variable(n)\n",
        "\n",
        "objective = cp.Minimize(cp.length(x))\n",
        "\n",
        "constraints = [(1/n) * cp.norm(A @ x - b, 2)**2 <= epsilon]\n",
        "\n",
        "\n",
        "problem = cp.Problem(objective, constraints)\n",
        "problem.solve(qcp=True, solver='SCS')\n",
        "\n",
        "print(\"Optimal length\", problem.value)x\n",
        "\n",
        "mse = (1 / n) * np.linalg.norm(A @ x.value - b, 2)**2\n",
        "print(\"MSE\", mse)\n",
        "\n",
        "print(np.round(x.value, 2))\n",
        "\n"
      ]
    },
    {
      "cell_type": "markdown",
      "metadata": {},
      "source": [
        "# Feedback\n",
        "- All parts of your answer are correct.\n",
        "\n",
        "The grade of your tRAT is available on blackboard.\n"
      ]
    }
  ],
  "metadata": {
    "colab": {
      "provenance": []
    },
    "kernelspec": {
      "display_name": "Python 3",
      "name": "python3"
    },
    "language_info": {
      "codemirror_mode": {
        "name": "ipython",
        "version": 3
      },
      "file_extension": ".py",
      "mimetype": "text/x-python",
      "name": "python",
      "nbconvert_exporter": "python",
      "pygments_lexer": "ipython3",
      "version": "3.10.11"
    }
  },
  "nbformat": 4,
  "nbformat_minor": 0
}
