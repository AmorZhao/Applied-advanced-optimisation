{
  "cells": [
    {
      "cell_type": "markdown",
      "metadata": {
        "id": "yYWkHR7uqRCI"
      },
      "source": [
        "# Class Exercises - Week 2"
      ]
    },
    {
      "cell_type": "markdown",
      "metadata": {
        "id": "EpizlXkj60Vw"
      },
      "source": [
        "---\n",
        "---\n",
        "\n",
        "**Author:** Dr Giordano Scarciotti (g.scarciotti@imperial.ac.uk) - Imperial College London\n",
        "\n",
        "**Module:** ELEC70066 - Applied Advanced Optimisation\n",
        "\n",
        "**Version:** 1.1.2 - 16/01/2025\n",
        "\n",
        "---\n",
        "---"
      ]
    },
    {
      "cell_type": "markdown",
      "metadata": {
        "id": "Y1e-WwuDORFo"
      },
      "source": [
        "**Reminder:** The solutions of some these exercises may be found online. Do not look for the solutions, but ask for help to me or the GTA. Your assessment will not have a solution available online so it is of paramount importance that you learn how to solve the problems without relying on a solution being available. For the same reason, do not use AI to solve the exercises.\n",
        "\n",
        "The solutions of these exercises will be discussed at the end of the session. Moreover, the complete solution will be provided to you after 1 week. **N.B.** **Do not share the solutions online**"
      ]
    },
    {
      "cell_type": "markdown",
      "metadata": {
        "id": "abubwVerqRHp"
      },
      "source": [
        "## Exercise 1"
      ]
    },
    {
      "cell_type": "markdown",
      "metadata": {
        "id": "P1pg4vVRqmIo"
      },
      "source": [
        "Consider the problem\n",
        "\n",
        "$$\n",
        "\\begin{array}{ll}\n",
        "\\displaystyle \\min_{x,y} & f_0(x,y)\\\\\n",
        "\\text{s.t. } & 2 x + y \\ge 1\\\\\n",
        "& x + 3 y \\ge 1\\\\\n",
        "& x \\ge 0\\\\\n",
        "& y \\ge 0\n",
        "\\end{array}\n",
        "$$"
      ]
    },
    {
      "cell_type": "markdown",
      "metadata": {
        "id": "TmhLvFvZqmK4"
      },
      "source": [
        "Write a programme in python that solves the four problems for\n",
        "\n",
        "1.   $f_0(x, y) = x + y$\n",
        "2.   $f_0(x, y) = -x - y$\n",
        "3.   $f_0(x, y) = \\max(x,y)$\n",
        "4.   $f_0(x, y) = x^2 + 9y^2$\n"
      ]
    },
    {
      "cell_type": "markdown",
      "metadata": {
        "id": "aMR9pTPVqmNa"
      },
      "source": [
        "Comment all your code and print the optimal $x$, $y$ and value of the problem for the four cases above."
      ]
    },
    {
      "cell_type": "code",
      "execution_count": 12,
      "metadata": {},
      "outputs": [
        {
          "name": "stdout",
          "output_type": "stream",
          "text": [
            "optimal value 0.6000000001640435\n",
            "optimal var 0.4000000000142378 0.20000000014980568\n",
            "optimal value -inf\n",
            "optimal var None None\n",
            "optimal value 0.3333333337083394\n",
            "optimal var 0.3333333337083394 0.3333333316865374\n",
            "optimal value 0.5000000000000002\n",
            "optimal var 0.5000000000000001 0.1666666666666667\n"
          ]
        }
      ],
      "source": [
        "import cvxpy as cp\n",
        "\n",
        "x = cp.Variable()\n",
        "y = cp.Variable()\n",
        "\n",
        "constraints = [\n",
        "        2*x + y >= 1, \n",
        "        x + 3*y >= 1, \n",
        "        x >= 0, \n",
        "        y >= 0\n",
        "    ]\n",
        "\n",
        "def print_result(cost, x, y):\n",
        "    prob = cp.Problem(cp.Minimize(cost), constraints) \n",
        "    prob.solve() \n",
        "    print(\"optimal value\", prob.value)\n",
        "    print(\"optimal var\", x.value, y.value)\n",
        "\n",
        "cost_1 = x + y\n",
        "cost_2 = - x - y\n",
        "cost_3 = cp.maximum(x, y)\n",
        "cost_4 = pow(x, 2) + 9 * pow(y, 2)\n",
        "\n",
        "print_result(cost_1, x, y)\n",
        "print_result(cost_2, x, y)  # unbounded\n",
        "print_result(cost_3, x, y)\n",
        "print_result(cost_4, x, y)\n"
      ]
    },
    {
      "cell_type": "markdown",
      "metadata": {
        "id": "XytWjKFLqmPi"
      },
      "source": [
        "# Exercise 2\n"
      ]
    },
    {
      "cell_type": "markdown",
      "metadata": {
        "id": "syeng5Nt98Mb"
      },
      "source": [
        "This exercise is adapted from the example \"Fitting censored data\" on the CVXPY website. **Do not look for the solution**, but ask for help to me or the GTA. You can use any other example on the CVXPY website, but not the \"Fitting censored data\" one. Your assessment will not have a solution available online so it is of paramount importance that you learn how to solve the problems without relying on a solution being available."
      ]
    },
    {
      "cell_type": "markdown",
      "metadata": {
        "id": "Bdg8HonjJqF0"
      },
      "source": [
        "In statistics, [censoring](https://en.wikipedia.org/wiki/Censoring_(statistics)) is a condition in which the value of a measurement or observation is only partially known.\n",
        "\n",
        "For instance, suppose a study is conducted to measure the impact of a drug on mortality rate. In such a study, it may be known that an individual's age at death is at least 75 years (but may be more). Such a situation could occur if the individual withdrew from the study at age 75, or if the individual is currently alive at the age of 75.\n",
        "\n",
        "Censoring also occurs when a value occurs outside the range of a measuring instrument. For example, a bathroom scale might only measure up to 140 kg. If a 160-kg individual is weighed using the scale, the observer would only know that the individual's weight is at least 140 kg.\n",
        "\n"
      ]
    },
    {
      "cell_type": "markdown",
      "metadata": {
        "id": "08HDdyN-_3KR"
      },
      "source": [
        "We wish to fit a set of data points,\n",
        "\n",
        "$$\n",
        "(x^{(1)},y^{(1)}), \\dots , (x^{(K)},y^{(K)}),\n",
        "$$\n",
        "\n",
        "with $x^{(k)}\\in \\mathbb{R}^n$ and $y^{(k)} \\in \\mathbb{R}$, with a linear model of the form $y \\approx c^\\top x$. The vector $c\\in\\mathbb{R}^n$ is the model parameter, which we want to choose. We will use a least-squares criterion, i.e., choose $c$ to minimize\n",
        "\n",
        "$$\n",
        "J = \\sum_{k=1}^K \\left( y^{(k)} - c^\\top x^{(k)} \\right)^2\n",
        "$$\n",
        "\n",
        "All the values of $x^{(k)}$ are known. The data $y^{(1)}$, ..., $y^{(M)}$ are known, while the data $y^{(M+1)}$, ..., $y^{(K)}$ are all censored, i.e. unknown but larger than $D$, a known number."
      ]
    },
    {
      "cell_type": "markdown",
      "metadata": {
        "id": "J5PLv7Uhgrvz"
      },
      "source": [
        "Solve three problems:\n",
        "\n",
        "\n",
        "\n",
        "1.   Solve the naive Least-Square problem (i.e. minimize $J$) considering the entire data from $1$ to $K$ as if it were correct (i.e. assume that the censored data is the actual data)\n",
        "2.   Solve the Least-Squares problem ignoring the censored data, i.e. use only the data from $1$ to $M$\n",
        "3.   Use constraints to take into account the censored data\n",
        "\n",
        "For each of the problems compute the residual\n",
        "\n",
        "$$\n",
        "\\frac{||c_{true} - \\hat c||_2}{||c_{true}||_2}\n",
        "$$\n",
        "\n",
        "where $c_{true}$ is the actual value of $c$ and $\\hat c$ is the estimated value in each of the three problems."
      ]
    },
    {
      "cell_type": "markdown",
      "metadata": {
        "id": "2VqX3fiykHWa"
      },
      "source": [
        "The data is generated by this snippet of code"
      ]
    },
    {
      "cell_type": "code",
      "execution_count": 13,
      "metadata": {
        "id": "M78szKIZkO3b"
      },
      "outputs": [],
      "source": [
        "# This code generates the data for the problem\n",
        "# The variables that you can use are X_ordered, y_censored and D.\n",
        "# You can use c_true to compute the residual\n",
        "# DO NOT USE X, y and y_ordered, these are internal variables\n",
        "# used to generate the data for the problem\n",
        "\n",
        "import cvxpy as cp\n",
        "import numpy as np\n",
        "n = 30 # number of variables\n",
        "M = 50 # number of uncensored observations\n",
        "K = 200 # total number of observations\n",
        "\n",
        "# Random generation of the data\n",
        "np.random.seed(n*M*K)\n",
        "X = np.random.randn(K*n).reshape(K, n) # DO NOT USE\n",
        "c_true = np.random.rand(n)\n",
        "y = X.dot(c_true) + .3*np.sqrt(n)*np.random.randn(K) # DO NOT USE\n",
        "\n",
        "# Ordering them based on y\n",
        "order = np.argsort(y) # DO NOT USE\n",
        "y_ordered = y[order] # DO NOT USE\n",
        "X_ordered = X[order,:]\n",
        "\n",
        "# finding boundary\n",
        "D = (y_ordered[M-1] + y_ordered[M])/2.\n",
        "\n",
        "# applying censoring\n",
        "y_censored = np.concatenate((y_ordered[:M], np.ones(K-M)*D))\n",
        "\n",
        "# The variables that you can use are X_ordered, y_censored and D.\n",
        "# You can use c_true to compute the residual\n",
        "# DO NOT USE X, y and y_ordered, these are internal variables\n",
        "# used to generate the data for the problem"
      ]
    },
    {
      "cell_type": "code",
      "execution_count": null,
      "metadata": {},
      "outputs": [
        {
          "name": "stdout",
          "output_type": "stream",
          "text": [
            "optimal value 1698.9222686736985\n",
            "optimal c [ 0.21675412 -0.01055401  0.6084366   0.38871172 -0.02505805 -0.32893498\n",
            " -0.04523541 -0.13816865  0.48735647 -0.00860644  0.22483505  0.1980222\n",
            "  0.23656382  0.22497391  0.06820719  0.10749049 -0.1314469   0.00584045\n",
            "  0.04698078 -0.08254453  0.30340207  0.09028037 -0.20223001  0.18510921\n",
            "  0.49060366  0.18815787  0.05200329  0.3670569  -0.034346    0.1419044 ]\n",
            "residue 0.8381563144693492\n"
          ]
        }
      ],
      "source": [
        "# X_ordered, y_censored and D, c_true\n",
        "\n",
        "# part 1\n",
        "c = cp.Variable(n)\n",
        "J = cp.sum_squares(X_ordered @ c - y_censored)\n",
        "objective = cp.Minimize(J)\n",
        "constraints = []\n",
        "\n",
        "prob = cp.Problem(objective, constraints)\n",
        "prob.solve()\n",
        "residue = np.linalg.norm(c_true - c.value, 2) / np.linalg.norm(c_true, 2)\n",
        "\n",
        "print(\"optimal value\", prob.value)\n",
        "print(\"optimal c\", c.value)\n",
        "print(\"residue\", residue)"
      ]
    },
    {
      "cell_type": "code",
      "execution_count": 36,
      "metadata": {},
      "outputs": [
        {
          "name": "stdout",
          "output_type": "stream",
          "text": [
            "optimal value 33.697826884360374\n",
            "optimal c [ 0.72956219  0.59273637  1.49803854  1.26515038  0.90959927  0.27911708\n",
            "  0.33039085  0.58718121  0.10692683  0.69727413  1.21295263  0.92209524\n",
            "  0.62076821  0.74019248  0.01724733  0.758353   -0.3686797   1.45235794\n",
            "  0.00563295  1.35378805  0.78189158  0.34821785 -0.18566106  0.4954472\n",
            "  0.91181214  0.79014362  1.25547097  0.51207478  1.21229208  0.40918099]\n",
            "residue 0.6752336824059694\n"
          ]
        }
      ],
      "source": [
        "# part 2\n",
        "c = cp.Variable(n)\n",
        "J = cp.sum_squares(X_ordered[:M] @ c - y_censored[:M])\n",
        "objective = cp.Minimize(J)\n",
        "\n",
        "prob = cp.Problem(objective, constraints)\n",
        "prob.solve()\n",
        "residue = np.linalg.norm(c_true - c.value, 2) / np.linalg.norm(c_true, 2)\n",
        "\n",
        "print(\"optimal value\", prob.value)\n",
        "print(\"optimal c\", c.value)\n",
        "print(\"residue\", residue)"
      ]
    },
    {
      "cell_type": "code",
      "execution_count": 45,
      "metadata": {},
      "outputs": [
        {
          "name": "stdout",
          "output_type": "stream",
          "text": [
            "optimal value 100.38441308934719\n",
            "optimal c [ 0.61970582  0.16289536  0.95608605  0.52516372  0.57954434  0.67022682\n",
            "  0.0885511   0.60130831 -0.27252812 -0.02518874  0.69818253  0.88241519\n",
            "  0.43527426  0.8848141   0.11263483  0.60701198  0.10914104  1.07818784\n",
            "  0.12440884  1.31124675  0.55172327 -0.15040273 -0.21464232  0.4282669\n",
            "  0.48603714  0.53978594  0.85544742  1.20637474  0.94039358  0.72184264]\n",
            "residue 0.44959817409390224\n"
          ]
        }
      ],
      "source": [
        "# part 3\n",
        "c = cp.Variable(n)\n",
        "J = cp.sum_squares(X_ordered[:M] @ c - y_censored[:M])\n",
        "objective = cp.Minimize(J)\n",
        "\n",
        "constraints = []\n",
        "for i in range(M, K):\n",
        "    if y_censored[i] >= D:\n",
        "        constraints.append(X_ordered[i] @ c >= D) \n",
        "\n",
        "prob = cp.Problem(objective, constraints)\n",
        "prob.solve()\n",
        "residue = np.linalg.norm(c_true - c.value, 2) / np.linalg.norm(c_true, 2)\n",
        "\n",
        "print(\"optimal value\", prob.value)\n",
        "print(\"optimal c\", c.value)\n",
        "print(\"residue\", residue)"
      ]
    },
    {
      "cell_type": "markdown",
      "metadata": {
        "id": "7IcTj-YN5G64"
      },
      "source": [
        "# Exercise 3"
      ]
    },
    {
      "cell_type": "markdown",
      "metadata": {
        "id": "O5dRvRJh7_7T"
      },
      "source": [
        "What is the solution of the norm approximation problem with one **scalar** variable $x \\in \\mathbb{R}$\n",
        "\n",
        "$$\n",
        "\\displaystyle\\min_x || x \\mathbf{1} - b ||\n",
        "$$\n",
        "\n",
        "where $b \\in \\mathbb{R}^m$, and $\\mathbf{1}$ is a vector of all $1$'s, for the following cases:\n",
        "\n",
        "1.   $\\ell_2$-norm\n",
        "2.   $\\ell_1$-norm\n",
        "3.   $\\ell_\\infty$-norm\n",
        "\n",
        "You can use CVX on an example to try to guess the solution. Can you obtain the analytical formula for all three cases?"
      ]
    },
    {
      "cell_type": "markdown",
      "metadata": {},
      "source": [
        "1. $\\ell_2$-norm\n",
        "\n",
        "    $ J = (x \\mathbf{1} - b)^2 = (x\\mathbf{1})^2 - 2(x\\mathbf{1})b + b^2 $\n",
        "\n",
        "\n",
        "2. $\\ell_1$-norm\n",
        "\n",
        "3. $\\ell_\\infty$-norm\n"
      ]
    }
  ],
  "metadata": {
    "colab": {
      "provenance": []
    },
    "kernelspec": {
      "display_name": "Python 3",
      "name": "python3"
    },
    "language_info": {
      "codemirror_mode": {
        "name": "ipython",
        "version": 3
      },
      "file_extension": ".py",
      "mimetype": "text/x-python",
      "name": "python",
      "nbconvert_exporter": "python",
      "pygments_lexer": "ipython3",
      "version": "3.10.11"
    }
  },
  "nbformat": 4,
  "nbformat_minor": 0
}
