{
  "nbformat": 4,
  "nbformat_minor": 0,
  "metadata": {
    "colab": {
      "provenance": []
    },
    "kernelspec": {
      "name": "python3",
      "display_name": "Python 3"
    },
    "language_info": {
      "name": "python"
    }
  },
  "cells": [
    {
      "cell_type": "markdown",
      "source": [
        "# Solutions of Class Exercises - Week 5"
      ],
      "metadata": {
        "id": "KoqQjDLcasp3"
      }
    },
    {
      "cell_type": "markdown",
      "source": [
        "---\n",
        "---\n",
        "\n",
        "**Author:** Dr Giordano Scarciotti (g.scarciotti@imperial.ac.uk) - Imperial College London\n",
        "\n",
        "**Module:** ELEC70066 - Applied Advanced Optimisation\n",
        "\n",
        "**Version:** 1.1.2 - 06/02/2025\n",
        "\n",
        "---\n",
        "---"
      ],
      "metadata": {
        "id": "9csEI9VCau9X"
      }
    },
    {
      "cell_type": "markdown",
      "source": [
        "**Reminder:** The solutions of some these exercises may be found online. Do not look for the solutions, but ask for help to me or the GTA. Your assessment will not have a solution available online so it is of paramount importance that you learn how to solve the problems without relying on a solution being available.\n",
        "\n",
        "The solutions of these exercises will be discussed at the end of the session. Moreover, the complete solution will be provided to you after 1 week.  **N.B.** **Do not share the solutions online**"
      ],
      "metadata": {
        "id": "4lOD6x4tavAF"
      }
    },
    {
      "cell_type": "markdown",
      "source": [
        "## Exercise 1"
      ],
      "metadata": {
        "id": "Jv1Fu20ravIe"
      }
    },
    {
      "cell_type": "markdown",
      "source": [
        "A common approximation problem consists in fitting a series of measurements using a specific class of functions. For instance, one can look for the best linear interpolator or the best polynomial interpolator. A popular class of interpolators is the class of rational functions, i.e. functions which are the ratio of two polynomials. For instance, this is the case in control engineering, where the measurements are sampled values of the transfer function, called \"moments\", and we aim at obtaining the best transfer function that matches the sampled moments. Of course, transfer functions are rational functions.\n",
        "\n",
        "Consider the following **quasiconvex** optimisation problem:\n",
        "$$\n",
        "\\begin{array}{ll}\n",
        "\\min & \\displaystyle \\max_{i=1,\\dots,k} \\left| \\frac{p(t_i)}{q(t_i)}-y_i\\right|\n",
        "\\end{array} \\tag{1}\n",
        "$$\n",
        "with\n",
        "$$\n",
        "p(t) = a_0 + a_1 t + a_2 t^2 + \\cdots + a_m t^m, \\qquad q(t) = 1 + b_1t + \\cdots + b_n t^n,\n",
        "$$\n",
        "where the domain of the objective function is\n",
        "$$\n",
        "D = \\{(a,b)\\in \\mathbb{R}^{m+1}\\times \\mathbb{R}^n : q(t) > 0, \\,\\,\\alpha \\le t \\le \\beta \\}.\n",
        "$$\n",
        "In this problem we fit a rational function $p(t)/q(t)$ to given data $y$, while constraining the polynomial denominator to be positive in the interval $[\\alpha,\\beta]$. The optimisation variables are the numerator and denominator coefficients $a_i$ and $b_i$."
      ],
      "metadata": {
        "id": "ydy7H1cv9DEy"
      }
    },
    {
      "cell_type": "markdown",
      "source": [
        "Here, we consider the specific problem instance with data\n",
        "\n",
        "$$\n",
        "t_i = -3 + 6\\frac{i-1}{k-1}, \\quad y_i = e^{t_i}, \\quad i=1,\\dots,k, \\tag{2}\n",
        "$$\n",
        "\n",
        "where $k=201$. In other words, the data are obtained by uniformly sampling the exponential function over the interval $[-3,3]$.\n",
        "\n",
        "For this exercise you will find useful Sub-Section \"*Representation via a family of convex functions*\" in 4.3.1 and\n",
        "Sub-Section \"*Special case: Quasiconvex Optimisation*\" in 5.1.1.\n",
        "\n",
        "*    Transform problem $(1)$ into a convex feasibility problem. (*NB: you do not have to prove that the convex representation is convex. The proof is postponed to Exercise $2$*).\n",
        "*    Solve problem $(1)$ for $m=2$ and $n=2$, with a bisection tolerance of $0.001$ (as upper bound you can pick $e^3$).\n",
        "*    Plot, in the same figure, the exponential in $(2)$ with a solid line and the rational approximation obtained with the optimal $a_0$, $a_1$, $a_2$, $b_1$ and $b_2$ with a dashed line."
      ],
      "metadata": {
        "id": "HyYbXFiN9DHQ"
      }
    },
    {
      "cell_type": "markdown",
      "source": [
        "### Solution Exercise 1"
      ],
      "metadata": {
        "id": "WKMmtcf6jqzA"
      }
    },
    {
      "cell_type": "markdown",
      "source": [
        "The problem can be solved by transforming it into a feasibility problem, namely\n",
        "\n",
        "$$\n",
        "\\begin{array}{lll}\n",
        "\\min & 0 & \\\\\n",
        "\\text{s.t.} & | p(t_i) - y_i q(t_i)| \\le \\gamma q(t_i) & i=1,\\dots,k  \n",
        "\\end{array} \\tag{1}\n",
        "$$\n",
        "\n",
        "which is solved in the following code. (The proof of the convexity of the problem above is postponed to Exercise $2$.)"
      ],
      "metadata": {
        "id": "Ayb9HEUp2WA7"
      }
    },
    {
      "cell_type": "code",
      "source": [
        "# Include some libraries\n",
        "import cvxpy as cp\n",
        "import numpy as np\n",
        "import math\n",
        "import matplotlib.pyplot as plt"
      ],
      "metadata": {
        "id": "Z4SutS6bIqYU"
      },
      "execution_count": null,
      "outputs": []
    },
    {
      "cell_type": "code",
      "source": [
        "# Generate the points for the interpolation\n",
        "k = 201\n",
        "t = np.zeros(k)\n",
        "y = np.zeros(k)\n",
        "\n",
        "for i in range(k):\n",
        "  t[i] = -3 + 6*(i)/(k-1)\n",
        "  y[i] = math.exp(t[i])"
      ],
      "metadata": {
        "id": "5CdPWsoxI0sq"
      },
      "execution_count": null,
      "outputs": []
    },
    {
      "cell_type": "code",
      "source": [
        "# Declare the variables\n",
        "a = cp.Variable(3)\n",
        "b = cp.Variable(2)\n",
        "\n",
        "# Construct the array [1  b_0  b_1]\n",
        "bt=np.array([1,0,0])+np.array([0,1,0])*b[0]+np.array([0,0,1])*b[1]\n",
        "\n",
        "# Construct the matrix where the row i is [1 t_i t_i^2]\n",
        "Tmatrix = np.array([np.ones(k), t, t*t])"
      ],
      "metadata": {
        "id": "lxcJC3QHI15a"
      },
      "execution_count": null,
      "outputs": []
    },
    {
      "cell_type": "code",
      "source": [
        "# Tolerance, upper and lower bound for the bisection\n",
        "u = math.exp(3)\n",
        "l = 0\n",
        "tol = 0.001\n",
        "\n",
        "# Bisection algorithm\n",
        "while u-l >= tol:\n",
        "  gamma = (l+u)/2\n",
        "  # Formulation and soluton of the feasibility problem\n",
        "  pt = a@Tmatrix\n",
        "  qt = bt@Tmatrix\n",
        "  constr = [cp.abs(pt - cp.multiply(y,qt)) <= gamma*qt]\n",
        "  prob = cp.Problem(cp.Minimize(0),constr)\n",
        "  prob.solve()\n",
        "\n",
        "  if prob.status == 'optimal':\n",
        "    u=gamma\n",
        "    a_opt=a.value\n",
        "    b_opt=b.value\n",
        "    objval_opt=gamma\n",
        "  else:\n",
        "    l=gamma"
      ],
      "metadata": {
        "id": "2V0I8aGTI3EM"
      },
      "execution_count": null,
      "outputs": []
    },
    {
      "cell_type": "code",
      "source": [
        "print(\"The optimal a_i are\",a_opt)\n",
        "print(\"The optimal b_i are\",b_opt)\n",
        "print(\"The optimal objective value is\",objval_opt)"
      ],
      "metadata": {
        "colab": {
          "base_uri": "https://localhost:8080/"
        },
        "id": "ryXoDQsBI53i",
        "outputId": "f6d4a0a6-d6da-4bf1-b467-4ccb87d99c8e"
      },
      "execution_count": null,
      "outputs": [
        {
          "output_type": "stream",
          "name": "stdout",
          "text": [
            "The optimal a_i are [1.00971251 0.61197358 0.11353697]\n",
            "The optimal b_i are [-0.41454048  0.04848698]\n",
            "The optimal objective value is 0.02329255380496617\n"
          ]
        }
      ]
    },
    {
      "cell_type": "code",
      "source": [
        "# Computation of the optimal interpolant\n",
        "bt_opt=np.array([1,0,0])+np.array([0,1,0])*b_opt[0]+np.array([0,0,1])*b_opt[1]\n",
        "y_fit=a_opt@Tmatrix/(bt_opt@Tmatrix)"
      ],
      "metadata": {
        "id": "wrSHks1gI7mj"
      },
      "execution_count": null,
      "outputs": []
    },
    {
      "cell_type": "code",
      "source": [
        "# Plot of the interpolant and of the real function\n",
        "plt.plot(t, y,'-b',label=\"Exponential\")\n",
        "plt.plot(t, y_fit,'-.r',label=\"Rational interpolant\")\n",
        "plt.legend()\n",
        "plt.show()"
      ],
      "metadata": {
        "colab": {
          "base_uri": "https://localhost:8080/",
          "height": 265
        },
        "id": "M77vcRVDI9AH",
        "outputId": "acf3226d-f09a-4252-9bbc-ae73f91d564f"
      },
      "execution_count": null,
      "outputs": [
        {
          "output_type": "display_data",
          "data": {
            "text/plain": [
              "<Figure size 432x288 with 1 Axes>"
            ],
            "image/png": "[encoded data removed]"
          },
          "metadata": {
            "needs_background": "light"
          }
        }
      ]
    },
    {
      "cell_type": "markdown",
      "source": [
        "## Exercise 2"
      ],
      "metadata": {
        "id": "C66t6qPyiOr5"
      }
    },
    {
      "cell_type": "markdown",
      "source": [
        "Prove that the problem in Exercise 1 is a quasiconvex optimisation problem. To this end:\n",
        "\n",
        "*   Show that the domain $D$ is convex.\n",
        "*   Find a convex representation $\\phi_\\gamma$ of the sublevel sets of the objective function. Show that $\\phi_\\gamma$ is convex.\n",
        "\n"
      ],
      "metadata": {
        "id": "-Q-Zjl5sFFDE"
      }
    },
    {
      "cell_type": "markdown",
      "source": [
        "### Hint"
      ],
      "metadata": {
        "id": "mZPnrzWJkofn"
      }
    },
    {
      "cell_type": "markdown",
      "source": [
        "The important fact to notice is that the polynomials $p(t)$ and $q(t)$ are **linear** functions in the parameters $a_i$ and $b_i$."
      ],
      "metadata": {
        "id": "-hU4X1h1ko2J"
      }
    },
    {
      "cell_type": "markdown",
      "source": [
        "### Solution Exercise 2"
      ],
      "metadata": {
        "id": "vv8kMj6amFOn"
      }
    },
    {
      "cell_type": "markdown",
      "source": [
        "First of all, note that $p(t)$ and $q(t)$ are linear functions in the parameters $a_i$ and $b_i$. Thus, $p(t)$, $-p(t)$, $q(t)$ and $-q(t)$ are both convex and concave.\n",
        "\n",
        "*    The domain $D$ is convex because it is a hyperspace defined by a set of linear inequalities.\n",
        "\n",
        "*    Now note that since $q(t_i)>0$ for all $i=1,\\dots,k$, we have\n",
        "$$\n",
        "\\phi_\\gamma = \\max_{i=1,\\dots,k} \\left| \\frac{p(t_i)}{q(t_i)}-y_i\\right| -\\gamma  \\le 0\n",
        "$$\n",
        "if and only if\n",
        "$$\n",
        "| p(t_i) - y_i q(t_i)| \\le \\gamma q(t_i), \\qquad i=1,\\dots,k.\n",
        "$$\n",
        "or, equivalently\n",
        "$$\n",
        " p(t_i) - y_i q(t_i) \\le \\gamma q(t_i), \\qquad i=1,\\dots,k.\n",
        "$$\n",
        "$$\n",
        " - p(t_i) + y_i q(t_i) \\le \\gamma q(t_i), \\qquad i=1,\\dots,k.\n",
        "$$\n",
        "which are all linear inequalities and so define a hyperspace. Thus, all sublevel sets are convex, which implies that the problem is quasiconvex."
      ],
      "metadata": {
        "id": "leRoqcnQME8x"
      }
    },
    {
      "cell_type": "markdown",
      "source": [
        "## Exercise 3"
      ],
      "metadata": {
        "id": "KQtAV3ZalSkz"
      }
    },
    {
      "cell_type": "markdown",
      "source": [
        "In general the product or ratio of two convex functions is not convex. However, there are some results that apply to functions on $\\mathbb{R}$.\n",
        "\n",
        "Prove the following:\n",
        "1.   If $f$ and $g$ are convex, both nondecreasing (or nonincreasing), and positive functions on an interval, then $fg$ is convex. (*Hint: use Jensen's inequality*)\n",
        "2.   If $f$, $g$ are concave, positive, with one nondecreasing and the other nonincreasing,\n",
        "then $fg$ is concave.\n",
        "3.   If $f$ is convex, nondecreasing, and positive, and $g$ is concave, nonincreasing, and\n",
        "positive, then $f/g$ is convex."
      ],
      "metadata": {
        "id": "el0QgB5I7SWH"
      }
    },
    {
      "cell_type": "markdown",
      "source": [
        "### Solution Exercise 3"
      ],
      "metadata": {
        "id": "fLjE8McqlU_B"
      }
    },
    {
      "cell_type": "markdown",
      "source": [
        "1.   We prove the result by verifying Jensen's inequality. $f$ and $g$ are positive and convex, hence for $0\\le \\theta \\le 1$\n",
        "$$\n",
        "\\begin{array}{rcl}\n",
        "f(\\theta x + (1-\\theta)y)g(\\theta x + (1-\\theta)y) &\\le& (\\theta f(x) + (1-\\theta) f(y))(\\theta g(x) + (1-\\theta) g(y))\\\\\n",
        "&=& \\theta f(x)g(x) + (1-\\theta)f(y)g(y)\\\\\n",
        "&&+ \\theta(1-\\theta)(f(y)-f(x))(g(x)-g(y)).\n",
        "\\end{array}\n",
        "$$\n",
        "The third term is less than or equal to zero if $f$ and $g$ are both increasing or both\n",
        "decreasing. Therefore\n",
        "$$\n",
        "f(\\theta x + (1-\\theta)y)g(\\theta x + (1-\\theta)y) \\le \\theta f(x)g(x) + (1-\\theta)f(y)g(y)\n",
        "$$\n",
        "2.   Reverse the inequalities in the solution of part 1.\n",
        "3.   It suffi\u000eces to note that $1/g$ is convex, positive and increasing, so the result follows\n",
        "from part 1."
      ],
      "metadata": {
        "id": "nUNiRdvC7WZf"
      }
    }
  ]
}