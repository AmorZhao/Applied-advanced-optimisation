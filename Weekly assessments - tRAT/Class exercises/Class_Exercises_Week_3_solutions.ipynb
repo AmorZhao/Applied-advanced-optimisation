{
  "nbformat": 4,
  "nbformat_minor": 0,
  "metadata": {
    "colab": {
      "provenance": []
    },
    "kernelspec": {
      "name": "python3",
      "display_name": "Python 3"
    },
    "language_info": {
      "name": "python"
    }
  },
  "cells": [
    {
      "cell_type": "markdown",
      "source": [
        "# Solutions of Class Exercises - Week 3"
      ],
      "metadata": {
        "id": "ShINEIF36fpT"
      }
    },
    {
      "cell_type": "markdown",
      "source": [
        "---\n",
        "---\n",
        "\n",
        "**Author:** Dr Giordano Scarciotti (g.scarciotti@imperial.ac.uk) - Imperial College London\n",
        "\n",
        "**Module:** ELEC70066 - Advanced Optimisation\n",
        "\n",
        "**Version:** 1.1.2 - 31/01/2023\n",
        "\n",
        "---\n",
        "---"
      ],
      "metadata": {
        "id": "aEsN7yX_6hIo"
      }
    },
    {
      "cell_type": "markdown",
      "source": [
        "**Reminder:** The solutions of some these exercises may be found online. Do not look for the solutions, but ask for help to me or the GTA. Your assessment will not have a solution available online so it is of paramount importance that you learn how to solve the problems without relying on a solution being available.\n",
        "\n",
        "The solutions of these exercises will be discussed at the end of the session. Moreover, the complete solution will be provided to you after 1 week.  **N.B.** **Do not share the solutions online**"
      ],
      "metadata": {
        "id": "4drOeY9X6lf5"
      }
    },
    {
      "cell_type": "markdown",
      "source": [
        "## Exercise 1"
      ],
      "metadata": {
        "id": "SPavo0006ofY"
      }
    },
    {
      "cell_type": "markdown",
      "source": [
        "Two investments are made, with random returns $R_1$ and $R_2$. The total return for the two investments is $R_1 + R_2$, and the probability of a loss (including breaking even, i.e., $R_1+R_2=0$) is $p^{loss} = \\textbf{prob}(R_1 + R_2 \\le 0)$. The goal is to find the worst-case (i.e., maximum possible) value of $p^{loss}$ consistent with the following information.\n",
        "\n",
        "We discretize the values that $R_1$ and $R_2$ can take to $n=100$ possible values $r_1$, ..., $r_n$, uniformly spaced from $r_1 = -35$ to $r_n = +75$. $R_1$ and $R_2$ are assumed to have Gaussian [marginal distributions](https://en.wikipedia.org/wiki/Marginal_distribution) with known means $\\mu_1$ and $\\mu_2$ and known standard deviations $\\sigma_1$ and $\\sigma_2$. Hence, the discretized marginals $p^{(1)}$ and $p^{(2)}$ for $R_1$ and $R_2$ are given by\n",
        "\n",
        "$$\n",
        "\\displaystyle p_i^{(k)} = \\textbf{prob}(R_k = r_i) = \\frac{\\displaystyle e^{ \\frac{-(r_i - \\mu_k)^2}{2\\sigma_k^2}}}{\\displaystyle \\sum_{j=1}^n e^{ \\frac{-(r_j - \\mu_k)^2}{2\\sigma_k^2}}}\n",
        "$$\n",
        "\n",
        "for $k = 1,2$ and $i = 1, ..., n$. In addition it is known that $R_1$ and $R_2$ are correlated with [correlation coefficient](https://en.wikipedia.org/wiki/Correlation#Pearson's_product-moment_coefficient) $\\rho$, which means that\n",
        "\n",
        "$$\n",
        "\\sum_{i,j} (r_i - \\mu_1) \\cdot \\textbf{prob}(R_1 = r_i , R_2 = r_j) \\cdot (r_j - \\mu_2) = \\rho \\sigma_1 \\sigma_2\n",
        "$$\n",
        "\n",
        "\n",
        "Consider the data $\\mu_1 =9$, $\\mu_2 = 22$, $\\sigma_1 = 7$, $\\sigma_2 = 19$ and $\\rho = -0.35$."
      ],
      "metadata": {
        "id": "ncl4jgzI9Ov3"
      }
    },
    {
      "cell_type": "code",
      "source": [
        "import cvxpy as cp\n",
        "import numpy as np\n",
        "\n",
        "# Data\n",
        "n = 100\n",
        "rmin = -35\n",
        "rmax = 75\n",
        "\n",
        "mu1 = 9\n",
        "mu2 = 22\n",
        "sigma1 = 7\n",
        "sigma2 = 19\n",
        "rho = -0.35"
      ],
      "metadata": {
        "id": "_oK7QlOrESJP"
      },
      "execution_count": null,
      "outputs": []
    },
    {
      "cell_type": "markdown",
      "source": [
        "**Formulate the problem as a convex optimisation problem and solve it.**\n",
        "* (*Extra - IGNORE this sentence unless you finish*) You may compare your result with the case in which $R_1$ and $R_2$ are jointly Gaussian, i.e. $R_1+R_2\\sim\\mathcal{N}(\\mu_1+\\mu_2,\\sigma_1^2+\\sigma_2^2+2\\rho\\sigma_1\\sigma_2)$. In that case the probabilities are uniquely identified by the Gaussian cumulative distribution, so there is no optimisation to do and the loss can be computed directly with a single `scipy.stats` function."
      ],
      "metadata": {
        "id": "XDA2m5omESgb"
      }
    },
    {
      "cell_type": "markdown",
      "source": [
        "**N.B.** Think. This exercise is not straightforward, but you have one hour to solve it. When in doubt ask for help. Depending on how much time you have left, we will provide help to let all groups reach the solution by the end of the hour.\n",
        "\n",
        "Below there are two hints. If you click on them, they will expland and you will be able to read them. Use them if you need.\n",
        "\n",
        "Before starting coding try to write with pen and paper the problem. Start with the constraints and follow with the objective function. If you are unsure about what the variable of the problem is, check Hint 1."
      ],
      "metadata": {
        "id": "2T5zWTGWEZq9"
      }
    },
    {
      "cell_type": "markdown",
      "source": [
        "### Hint 1: I do not know what the variable of the problem is"
      ],
      "metadata": {
        "id": "avZNG5eSyoW0"
      }
    },
    {
      "cell_type": "markdown",
      "source": [
        "The variable of your problem is $P$, which is the matrix of joint probabilities defined as $P_{ij} = \\textbf{prob}(R_1 = r_i, R_2 = r_j)$."
      ],
      "metadata": {
        "id": "n2_pCZ3Wyo4X"
      }
    },
    {
      "cell_type": "markdown",
      "source": [
        "### Hint 2: Help on some constraints"
      ],
      "metadata": {
        "id": "CpQT-Ef2yrIB"
      }
    },
    {
      "cell_type": "markdown",
      "source": [
        "The marginals $p^{(1)}$, $p^{(2)}$ are related to the joint probability matrix $P$ by summation along the two axis of the matrix."
      ],
      "metadata": {
        "id": "J6sMrjRByt1H"
      }
    },
    {
      "cell_type": "markdown",
      "source": [
        "### Solution Exercise 1"
      ],
      "metadata": {
        "id": "rG73ILXs6ok5"
      }
    },
    {
      "cell_type": "markdown",
      "source": [
        "Let $P$ be the matrix of joint probabilities with $P_{ij} = \\textbf{prob}(R_1 = r_i, R_2 = r_j)$. The condition that the marginals are the given ones is\n",
        "\n",
        "$$\n",
        "P \\mathbf{1} = p^{(1)}, \\qquad P^\\top \\mathbf{1} = p^{(2)}. \\tag{1}\n",
        "$$\n",
        "\n",
        "The probability of a loss $R_1 + R_2 \\le 0$ is given by\n",
        "\n",
        "$$\n",
        "\\textbf{prob}(R_1+R_2 \\le 0) = \\sum_{r_i + r_j \\le 0} P_{ij}\n",
        "$$\n",
        "\n",
        "In summary, the problem can be formulated as\n",
        "\n",
        "$$\n",
        "\\begin{array}{ll}\n",
        "\\displaystyle \\max & \\displaystyle \\sum_{r_i+r_j\\le 0} P_{ij}\\\\\n",
        "\\text{s.t. } & P_{ij} \\ge 0, \\quad i,j=1,\\dots,n\\\\\n",
        "& P \\mathbf{1} = p^{(1)}, \\\\\n",
        "& P^\\top \\mathbf{1} = p^{(2)}, \\\\\n",
        "& (r - \\mu_1 \\mathbf{1})^\\top P (r - \\mu_2 \\mathbf{1}) = \\rho \\sigma_1 \\sigma_2\n",
        "\\end{array}\n",
        "$$\n",
        "\n",
        "Note that we have omitted the constraint $\\sum_{ij}P_{ij}=1$ because this is implied by $(1)$. **N.B.** You can omit a constraint only if you justify why it can be omitted. Without justification the omission will be considered an error.\n",
        "\n",
        "At this point we can implement the problem in CVXPY."
      ],
      "metadata": {
        "id": "mrl4WeIT-cwu"
      }
    },
    {
      "cell_type": "code",
      "source": [
        "import cvxpy as cp\n",
        "import numpy as np"
      ],
      "metadata": {
        "id": "enKfUiCUK0wX"
      },
      "execution_count": null,
      "outputs": []
    },
    {
      "cell_type": "code",
      "source": [
        "# Given data\n",
        "n = 100\n",
        "rmin = -35\n",
        "rmax = 75\n",
        "\n",
        "mu1 = 9\n",
        "mu2 = 22\n",
        "sigma1 = 7\n",
        "sigma2 = 19\n",
        "rho = -0.35"
      ],
      "metadata": {
        "id": "S3h7Kf389Z_G"
      },
      "execution_count": null,
      "outputs": []
    },
    {
      "cell_type": "code",
      "source": [
        "# Discretized returns\n",
        "r = np.linspace(rmin,rmax,n)\n",
        "\n",
        "# Computation of the marginals p1 and p2\n",
        "p1 = np.exp(-(r-mu1)*(r-mu1)/(2*sigma1*sigma1))\n",
        "p1 = p1/np.sum(p1)\n",
        "\n",
        "p2 = np.exp(-(r-mu2)*(r-mu2)/(2*sigma2*sigma2))\n",
        "p2 = p2/np.sum(p2)"
      ],
      "metadata": {
        "id": "Uf_bGgSn9Pz3"
      },
      "execution_count": null,
      "outputs": []
    },
    {
      "cell_type": "code",
      "source": [
        "# Construction of the objective function\n",
        "P = cp.Variable((n,n))\n",
        "p_loss = 0\n",
        "\n",
        "for i in range(n):\n",
        "  for j in range(n):\n",
        "    if r[i] + r[j] <= 0:\n",
        "      p_loss=p_loss+P[i][j]\n"
      ],
      "metadata": {
        "id": "BtgvRQiz9Tc3"
      },
      "execution_count": null,
      "outputs": []
    },
    {
      "cell_type": "code",
      "source": [
        "#Alternative construction of the objective function\n",
        "#P = cp.Variable((n,n))\n",
        "#R1,R2 = np.meshgrid(r,r)\n",
        "#tot_return_mask = R1+R2 <= 0\n",
        "#p_loss = cp.sum(cp.multiply(P,tot_return_mask))"
      ],
      "metadata": {
        "id": "BhXn0cDueUto"
      },
      "execution_count": null,
      "outputs": []
    },
    {
      "cell_type": "code",
      "source": [
        "# Definition of the constraints\n",
        "constr = [P>=0,cp.sum(P,1) == p1,cp.sum(P.T,1) == p2,(r-mu1).T@P@(r-mu2) == rho*sigma1*sigma2, cp.sum(P)==1]\n",
        "\n",
        "# Alternative constraints\n",
        "# cp.sum(P,1) == p1 can be written as P@np.ones(n)==p1\n",
        "# cp.sum(P.T,1) == p2 can be written as P.T@np.ones(n)==p2\n",
        "\n",
        "# Solution\n",
        "prob = cp.Problem(cp.Maximize(p_loss),constr)\n",
        "prob.solve()"
      ],
      "metadata": {
        "colab": {
          "base_uri": "https://localhost:8080/"
        },
        "id": "4Jm73nPa9WFA",
        "outputId": "61007125-4272-4f63-80b5-1db384f50bf5"
      },
      "execution_count": null,
      "outputs": [
        {
          "output_type": "execute_result",
          "data": {
            "text/plain": [
              "0.18928791834325223"
            ]
          },
          "metadata": {},
          "execution_count": 8
        }
      ]
    },
    {
      "cell_type": "markdown",
      "source": [
        "Your investments have a $18.9\\%$ probability of a loss (including breaking even).\n",
        "\n",
        "We can compare the result with the case in which $R_1$ and $R_2$ are jointly Gaussian."
      ],
      "metadata": {
        "id": "XhJfKhZRovA8"
      }
    },
    {
      "cell_type": "code",
      "source": [
        "from scipy.stats import norm"
      ],
      "metadata": {
        "id": "pDt66ixu1_Kw"
      },
      "execution_count": null,
      "outputs": []
    },
    {
      "cell_type": "code",
      "source": [
        "norm(mu1+mu2,np.sqrt(sigma1*sigma1 + sigma2*sigma2 + 2*rho*sigma1*sigma2)).cdf(0)"
      ],
      "metadata": {
        "colab": {
          "base_uri": "https://localhost:8080/"
        },
        "id": "9yEieapy3Ppc",
        "outputId": "8d4ef019-310b-47cc-9f25-f727ba953a9b"
      },
      "execution_count": null,
      "outputs": [
        {
          "output_type": "execute_result",
          "data": {
            "text/plain": [
              "0.04080602976915407"
            ]
          },
          "metadata": {},
          "execution_count": 20
        }
      ]
    },
    {
      "cell_type": "markdown",
      "source": [
        "Thus the loss in the case in which $R_1$ and $R_2$ are not jointly Gaussian is more than four times larger."
      ],
      "metadata": {
        "id": "-r8WQbFNDfHJ"
      }
    },
    {
      "cell_type": "markdown",
      "source": [
        "## Exercise 2"
      ],
      "metadata": {
        "id": "QSJdrafdNr-u"
      }
    },
    {
      "cell_type": "markdown",
      "source": [
        "Determine whether the following sets are convex or not:\n",
        "\n",
        "1.   A slab, i.e. a set of the form $\\{x \\in \\mathbb{R}^n : \\alpha \\le a^\\top x \\le \\beta \\}$.\n",
        "2.   A rectangle, i.e. a set of the form $\\{x \\in \\mathbb{R}^n : \\alpha_i \\le  x_i \\le \\beta_i, \\, i=1,\\dots n \\}$.\n",
        "3.   A wedge, i.e. $\\{x \\in \\mathbb{R}^n : a_1^\\top x \\le b_1, a_2^\\top x\\le b_2\\}$.\n",
        "4.   Consider two fixed points $x_0$ and $x_1$. Show that the set\n",
        "$$\n",
        "\\{x: ||x-x_0||_2 \\le ||x-x_1||_2 \\}\n",
        "$$\n",
        "is a halfspace.\n",
        "5.   The set of points closer to a given point than a given set, i.e.\n",
        "$$\n",
        "\\{ x : ||x-x_0||_2 \\le || x - y ||_2 \\text{ for all }y\\in S\\}\n",
        "$$\n",
        "where $S \\subseteq{R}^n$\n",
        "\n",
        "6.   The set of points closer to one set than another, i.e.\n",
        "$$\n",
        "\\{ x: \\textbf{dist}(x,S) \\le \\textbf{dist}(x,T) \\}\n",
        "$$\n",
        "where $S,T \\subseteq \\mathbb{R}^n$ and\n",
        "\n",
        "$$\n",
        "\\textbf{dist}(x,S) = \\inf\\{||x-z||_2 : z \\in S \\}.\n",
        "$$\n",
        "\n",
        "7. The set $\\{ x : x + S_2 \\subseteq S_1 \\}$, where $S_1,S_2 \\subseteq \\mathbb{R}^n$ with $S_1$ convex."
      ],
      "metadata": {
        "id": "QMkhcSuSNwHl"
      }
    },
    {
      "cell_type": "markdown",
      "source": [
        "### Solution Exercise 2"
      ],
      "metadata": {
        "id": "xykINq2FNzU1"
      }
    },
    {
      "cell_type": "markdown",
      "source": [
        "1.   A slab is an intersection of two halfspaces, hence it is a convex set and a polyhedron.\n",
        "2.   Same as above. A rectangle is a convex set and a polyhedron because it is an intersection of halfspaces.\n",
        "3.   Same as above. A wedge is an intersection of two halfspaces, so it is convex set and a polyhedron.\n",
        "Note that this is a cone if $b_1 = 0$ and $b_2 = 0$.\n",
        "4.   Note that\n",
        "$$\n",
        "\\begin{array}{rl}\n",
        "\\{x: ||x-x_0||_2 \\le ||x-x_1||_2 \\} &\\iff (x - x_0)^\\top (x - x_0) \\le (x-x_1)^\\top(x-x_1) \\\\\n",
        "&\\iff x^\\top x - 2x_0^\\top x + x_0^\\top x_0 \\le x^\\top x - 2 x_1^\\top x + x_1^\\top x_1 \\\\\n",
        "&\\iff 2(x_1 - x_0)^\\top x \\le x_1^\\top x_1 - x_0^\\top x_0\n",
        "\\end{array}\n",
        "$$\n",
        "which defines a halfspace.\n",
        "5.   This set is convex because it can be expressed as\n",
        "$$\n",
        "\\bigcap_{y\\in S} \\{x: ||x-x_0||_2 \\le ||x-y||_2 \\},\n",
        "$$\n",
        "i.e. an intersection of sets of the type\n",
        "$$\n",
        "\\{x: ||x-x_0||_2 \\le ||x-y||_2 \\}\n",
        "$$\n",
        "which by part 4, defines a halfspace for each fixed $y$.\n",
        "6.   In general this set is not convex, as the following example in $\\mathbb{R}$ shows. With $S = \\{ -1, 1 \\}$ and $T = \\{0\\}$, we have\n",
        "$$\n",
        "\\{ x: \\textbf{dist}(x,S) \\le \\textbf{dist}(x,T) \\} = \\{x \\in \\mathbb{R} : x \\le -\\frac{1}{2} \\text{ or } x  \\ge \\frac{1}{2} \\}\n",
        "$$\n",
        "which is not convex.\n",
        "7.   This set is convex. $x + S_2 \\subseteq S_1$ if $x + y \\in S_1$ for all $y \\in S_2$. Therefore\n",
        "$$\n",
        "\\{ x : x + S_2 \\subseteq S_1 \\} =\\bigcap_{y\\in S_2} \\{ x : x + y \\in S_1 \\} = \\bigcap_{y\\in S_2} (S_1-y)\n",
        "$$\n",
        "the intersection of convex sets $S_1 - y$."
      ],
      "metadata": {
        "id": "KrB3j3rGN3dt"
      }
    },
    {
      "cell_type": "markdown",
      "source": [
        "## Exercise 3"
      ],
      "metadata": {
        "id": "gch1kmYON3ke"
      }
    },
    {
      "cell_type": "markdown",
      "source": [
        "Show that if $S_1$ and $S_2$ are convex sets in $\\mathbb{R}^{m+n}$, then so is their partial sum\n",
        "\n",
        "$$\n",
        "S = \\{(x, y_1 + y_2) : x \\in \\mathbb{R}^m, y_1, y_2 \\in \\mathbb{R}^n, (x, y_1) \\in S_1, (x, y_2) \\in S_2\\}.\n",
        "$$"
      ],
      "metadata": {
        "id": "npO9LOQkN6XF"
      }
    },
    {
      "cell_type": "markdown",
      "source": [
        "### Solution Exercise 3"
      ],
      "metadata": {
        "id": "0DwYEPUbN_nv"
      }
    },
    {
      "cell_type": "markdown",
      "source": [
        "We consider two points $(\\bar x, \\bar y_1 + \\bar y_2)$, $(\\tilde{x}, \\tilde{y}_1 + \\tilde{y}_2) \\in S$, i.e.\n",
        "\n",
        "$$\n",
        "(\\bar x, \\bar y_1) \\in S_1,\\quad (\\bar x, \\bar y_2) \\in S_2, \\quad (\\tilde{x}, \\tilde{y}_1) \\in S_1,\\quad (\\tilde{x}, \\tilde{y}_2)\\in S_2.\n",
        "$$\n",
        "\n",
        "For $0\\le \\theta \\le 1$,\n",
        "\n",
        "$$\n",
        "\\theta(\\bar x, \\bar y_1 + \\bar y_2) + (1-\\theta) (\\tilde{x}, \\tilde{y}_1 + \\tilde{y}_2) = (\\theta \\bar x + (1-\\theta)\\tilde{x}, \\theta \\bar y_1 + (1-\\theta)\\tilde{y_1} + \\theta \\bar y_2 + (1-\\theta)\\tilde{y_2})\n",
        "$$\n",
        "is in $S$ because, by convexity of $S_1$ and $S_2$,\n",
        "$$\n",
        "(\\theta \\bar x + (1-\\theta)\\tilde{x}, \\theta \\bar y_1 + (1-\\theta)\\tilde{y_1}) \\in S_1, \\qquad (\\theta \\bar x + (1-\\theta)\\tilde{x}, \\theta \\bar y_2 + (1-\\theta)\\tilde{y_2}) \\in S_2\n",
        "$$\n"
      ],
      "metadata": {
        "id": "Kcds0MSaOAr-"
      }
    }
  ]
}