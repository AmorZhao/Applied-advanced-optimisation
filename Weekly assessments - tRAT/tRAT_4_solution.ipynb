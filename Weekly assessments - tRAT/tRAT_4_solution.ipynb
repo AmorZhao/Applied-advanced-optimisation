{
  "nbformat": 4,
  "nbformat_minor": 0,
  "metadata": {
    "colab": {
      "provenance": []
    },
    "kernelspec": {
      "name": "python3",
      "display_name": "Python 3"
    },
    "language_info": {
      "name": "python"
    }
  },
  "cells": [
    {
      "cell_type": "markdown",
      "source": [
        "# Solution tRAT 4"
      ],
      "metadata": {
        "id": "G06UmgF0s4bb"
      }
    },
    {
      "cell_type": "markdown",
      "source": [
        "---\n",
        "---\n",
        "\n",
        "**Author:** Dr Giordano Scarciotti (g.scarciotti@imperial.ac.uk) - Imperial College London\n",
        "\n",
        "**Module:** ELEC70066 - Applied Advanced Optimisation\n",
        "\n",
        "**Version:** 1.1.3 - 06/02/2025\n",
        "\n",
        "---\n",
        "---"
      ],
      "metadata": {
        "id": "s8mlE0lEs0qK"
      }
    },
    {
      "cell_type": "markdown",
      "source": [
        "# IMPORTANT: read this"
      ],
      "metadata": {
        "id": "5NmRJCRIs0-W"
      }
    },
    {
      "cell_type": "markdown",
      "source": [
        "This test has a long explanation, but the coding part is very brief. Make sure you understand the text."
      ],
      "metadata": {
        "id": "quRFYRhZe2HI"
      }
    },
    {
      "cell_type": "markdown",
      "source": [
        "It turns out that CVXPY usually is not able to solve quasiconvex optimisation problems in the way you have just done, because CVXPY does not always recognise the transformed feasibility problem as convex (i.e. even if you prove its sublevel sets are convex, CVXPY may not know this and thinks that the problem is not convex).\n",
        "\n",
        "The reason the problem that you have just solved worked is because for that special case the transformed problem is just an LP, which CVXPY recognises as convex.\n",
        "\n",
        "Despite this, CVXPY can solve some quasiconvex optimisation problems directly, by using a specially designed quasiconvex solver, on specially designed quasiconvex atoms. This solver does nothing else than using the bisection algorithm, but it is capable of recognising some classes of quasiconvex problems. For instance consider the problem"
      ],
      "metadata": {
        "id": "Gaa4y9o5PUYA"
      }
    },
    {
      "cell_type": "markdown",
      "source": [
        "$$\n",
        "\\begin{array}{ll}\n",
        "\\displaystyle \\max_{x} &  \\displaystyle \\frac{\\sqrt{x}}{e^x}\n",
        "\\end{array} \\tag{1}\n",
        "$$"
      ],
      "metadata": {
        "id": "Z1-xHSxQRaTW"
      }
    },
    {
      "cell_type": "markdown",
      "source": [
        "This is a quasiconvex problem because $\\frac{\\sqrt{x}}{e^x}$ is a quasiconcave function, as the graph below shows."
      ],
      "metadata": {
        "id": "0NfZgv0WRpBx"
      }
    },
    {
      "cell_type": "code",
      "source": [
        "import cvxpy as cp\n",
        "import numpy as np\n",
        "import matplotlib.pyplot as plt\n",
        "import warnings\n",
        "warnings.filterwarnings(\"ignore\")\n",
        "plt.plot([np.sqrt(y) / np.exp(y) for y in np.linspace(0, 10)])\n",
        "plt.show()"
      ],
      "metadata": {
        "colab": {
          "base_uri": "https://localhost:8080/",
          "height": 430
        },
        "id": "qGHiQNnSRoHA",
        "outputId": "5dfafde3-8752-4dda-8513-1c792fb7d886"
      },
      "execution_count": null,
      "outputs": [
        {
          "output_type": "display_data",
          "data": {
            "text/plain": [
              "<Figure size 640x480 with 1 Axes>"
            ],
            "image/png": "[encoded data removed]"
          },
          "metadata": {}
        }
      ]
    },
    {
      "cell_type": "markdown",
      "source": [
        "Problem $(1)$ can be solved easily using the following code:"
      ],
      "metadata": {
        "id": "_futwxA4R-8w"
      }
    },
    {
      "cell_type": "code",
      "source": [
        "x = cp.Variable()\n",
        "problem = cp.Problem(cp.Maximize(cp.sqrt(x) / cp.exp(x)))\n",
        "problem.solve(qcp=True, solver='SCS') # We need to tell cvxpy that this is quasiconvex\n",
        "# and we need to pick a solver different from the default."
      ],
      "metadata": {
        "colab": {
          "base_uri": "https://localhost:8080/"
        },
        "id": "WPqQNCf1SDbn",
        "outputId": "7b2854e0-af3b-4cbd-96a0-0494956c68c0"
      },
      "execution_count": null,
      "outputs": [
        {
          "output_type": "execute_result",
          "data": {
            "text/plain": [
              "0.4288819413276109"
            ]
          },
          "metadata": {},
          "execution_count": 16
        }
      ]
    },
    {
      "cell_type": "markdown",
      "source": [
        "Note that in the code above we simply declared the objective function as we would normally do for a convex problem and we solved it with the command `problem.solve(qcp=True)`. This command is important because it tells CVXPY to use the quasiconvex solver."
      ],
      "metadata": {
        "id": "GPy4WFwtSLQ6"
      }
    },
    {
      "cell_type": "markdown",
      "source": [
        "For the sake of clarity, note that this problem can be solved using bisection (like you did before) on a feasibility problem, but for more general problems (like the ones in the exercises below) CVXPY does not recognize that the feasibility problem is convex and you must use the quasiconvex solver."
      ],
      "metadata": {
        "id": "vxEzRtT_aPiX"
      }
    },
    {
      "cell_type": "code",
      "source": [
        "# Tolerance, upper and lower bound for the bisection\n",
        "u = 0\n",
        "l = -10\n",
        "tol = 0.0001\n",
        "\n",
        "# Bisection algorithm\n",
        "while u-l >= tol:\n",
        "  gamma = (l+u)/2\n",
        "  # Formulation and soluton of the feasibility problem\n",
        "  constr = [-cp.sqrt(x)<=gamma*cp.exp(x),x>=0]\n",
        "  prob = cp.Problem(cp.Minimize(0),constr)\n",
        "  prob.solve(solver='SCS')\n",
        "\n",
        "  if prob.status == 'optimal':\n",
        "    u=gamma\n",
        "    x_opt=x.value\n",
        "    objval_opt=gamma\n",
        "  else:\n",
        "    l=gamma\n",
        "\n",
        "print(-objval_opt)"
      ],
      "metadata": {
        "colab": {
          "base_uri": "https://localhost:8080/"
        },
        "id": "5yMA6m2_Uk1W",
        "outputId": "a1e950ca-0473-48b3-e29c-db0b6abd83a1"
      },
      "execution_count": null,
      "outputs": [
        {
          "output_type": "stream",
          "name": "stdout",
          "text": [
            "0.427703857421875\n"
          ]
        }
      ]
    },
    {
      "cell_type": "markdown",
      "source": [
        "# Exercise 1"
      ],
      "metadata": {
        "id": "z-vpEwc_TZH0"
      }
    },
    {
      "cell_type": "markdown",
      "source": [
        "Consider the problem of minimising the ratio of the Eucliden distance from $a$ over the Eucliden distance from $b$, namely\n",
        "\n",
        "$$\n",
        "\\min \\quad \\frac{||x-a||_2}{||x-b||_2}\n",
        "$$\n",
        "\n",
        "This is a quasiconvex optimisation problem.\n",
        "\n",
        "*   Solve it with the data given below. Note that you need to use the [quasiconvex atom](https://www.cvxpy.org/tutorial/dqcp/index.html?highlight=dist_ratio#dqcp-atoms) `cvxpy.dist_ratio(x, a, b)` which denotes the function $\\frac{||x-a||_2}{||x-b||_2}$.\n",
        "*   Print the optimal ratio.\n",
        "*   Print the optimal $x$."
      ],
      "metadata": {
        "id": "4A49lAwnVecy"
      }
    },
    {
      "cell_type": "code",
      "source": [
        "# Data\n",
        "n = 10\n",
        "np.random.seed(1)\n",
        "a = np.random.randn(n)\n",
        "b = np.random.randn(n)"
      ],
      "metadata": {
        "id": "wNnPfTSYWYV5"
      },
      "execution_count": null,
      "outputs": []
    },
    {
      "cell_type": "markdown",
      "source": [
        "# Exercise 2"
      ],
      "metadata": {
        "id": "0CxbzbQcUmFK"
      }
    },
    {
      "cell_type": "markdown",
      "source": [
        "Consider the problem of finding the *minimum-length* least squares approximation of a vector $b$. The length of a vector in $\\mathbb{R}^n$ is defined as the largest index corresponding to a nonzero component:\n",
        "\n",
        "$$\n",
        "\\text{len}(x) = \\max\\{i : x_i \\ne 0\\}.\n",
        "$$\n",
        "\n",
        "This function is quasiconvex on $\\mathbb{R}^n$ because its sublevel sets are subspaces and it is implemented in CVXPY by the atom `cvxpy.length(x)`. The problem can be formulated as\n",
        "\n",
        "$$\n",
        "\\begin{array}{ll}\n",
        "\\displaystyle \\min_{x} &  \\text{len} (x) \\\\\n",
        "\\text{s.t. } & \\frac{1}{n}||Ax-b||_2^2 \\le \\varepsilon.\n",
        "\\end{array}\n",
        "$$\n",
        "\n",
        "where $\\frac{1}{n}||Ax-b||_2^2$ is the Mean-Square Error (MSE).\n",
        "\n",
        "The data of the problem is\n"
      ],
      "metadata": {
        "id": "LnI8eapHWi-r"
      }
    },
    {
      "cell_type": "code",
      "source": [
        "# Data\n",
        "n = 10\n",
        "np.random.seed(1)\n",
        "A = np.random.randn(n, n)\n",
        "b = A @ np.random.randn(n)\n",
        "epsilon = 1e-2"
      ],
      "metadata": {
        "id": "tc3x2lsPYWZl"
      },
      "execution_count": null,
      "outputs": []
    },
    {
      "cell_type": "markdown",
      "source": [
        "\n",
        "\n",
        "*   Solve the problem and print the optimal length\n",
        "*   Print the optimal MSE\n",
        "*   Print the optimal $x$ rounded to two decimal digits\n",
        "\n"
      ],
      "metadata": {
        "id": "mBXNwin3WjBi"
      }
    },
    {
      "cell_type": "markdown",
      "source": [
        "# Solution"
      ],
      "metadata": {
        "id": "VCAGH9UeYyHX"
      }
    },
    {
      "cell_type": "markdown",
      "source": [
        "## Exercise 1"
      ],
      "metadata": {
        "id": "2sTAlhqKWjDw"
      }
    },
    {
      "cell_type": "code",
      "source": [
        "n = 10\n",
        "np.random.seed(1)\n",
        "a = np.random.randn(n)\n",
        "b = np.random.randn(n)"
      ],
      "metadata": {
        "id": "_AT5ujH9D4mf"
      },
      "execution_count": null,
      "outputs": []
    },
    {
      "cell_type": "code",
      "source": [
        "x = cp.Variable(n)\n",
        "\n",
        "problem = cp.Problem(cp.Minimize(cp.dist_ratio(x,a,b)), [])\n",
        "print(\"Is problem DQCP?: \", problem.is_dqcp())\n",
        "\n",
        "problem.solve(qcp=True, solver='SCS')\n",
        "print(\"The optimal ratio is: \", problem.value)"
      ],
      "metadata": {
        "colab": {
          "base_uri": "https://localhost:8080/"
        },
        "id": "MyuwDJCKY2Ng",
        "outputId": "64d7bb6f-9c83-4960-fbbb-c1afc59e3548"
      },
      "execution_count": null,
      "outputs": [
        {
          "output_type": "stream",
          "name": "stdout",
          "text": [
            "Is problem DQCP?:  True\n",
            "The optimal ratio is:  0.22221760907697272\n"
          ]
        }
      ]
    },
    {
      "cell_type": "code",
      "source": [
        "x.value"
      ],
      "metadata": {
        "colab": {
          "base_uri": "https://localhost:8080/"
        },
        "id": "PdQSePRgcksk",
        "outputId": "04581525-e692-4f41-e796-9ee2aca7c6ba"
      },
      "execution_count": null,
      "outputs": [
        {
          "output_type": "execute_result",
          "data": {
            "text/plain": [
              "array([ 1.33063006, -0.07722087, -0.47563611, -1.04232958,  0.60928476,\n",
              "       -2.15827203,  1.91879686, -0.5694541 ,  0.33014413, -0.43099217])"
            ]
          },
          "metadata": {},
          "execution_count": 23
        }
      ]
    },
    {
      "cell_type": "markdown",
      "source": [
        "Note that using directly bisection does not work on this problem."
      ],
      "metadata": {
        "id": "Vy6JNkRQkPGI"
      }
    },
    {
      "cell_type": "code",
      "source": [
        "# Tolerance, upper and lower bound for the bisection\n",
        "x = cp.Variable(n)\n",
        "u = 1\n",
        "l = 0\n",
        "tol = 0.001\n",
        "\n",
        "# Bisection algorithm\n",
        "while u-l >= tol:\n",
        "  gamma = (l+u)/2\n",
        "  # Formulation and soluton of the feasibility problem\n",
        "  constr = [cp.norm(x-a)<=gamma*cp.norm(x-b)]\n",
        "  #constr = [(1-gamma*gamma)*x.T*x - 2*x.T*(a-gamma*gamma*b) + a.T*a-gamma*gamma*b.T*b<=0]\n",
        "  prob = cp.Problem(cp.Minimize(0),constr)\n",
        "  prob.solve(solver='SCS')\n",
        "\n",
        "  if prob.status == 'optimal':\n",
        "    u=gamma\n",
        "    x_opt=x.value\n",
        "    objval_opt=gamma\n",
        "  else:\n",
        "    l=gamma\n",
        "\n",
        "print(objval_opt)\n",
        "print(x_opt)"
      ],
      "metadata": {
        "colab": {
          "base_uri": "https://localhost:8080/",
          "height": 478
        },
        "id": "JyV4NpqpVU3b",
        "outputId": "a04d9d1f-1329-462d-d18b-4a7c5ba84e57"
      },
      "execution_count": null,
      "outputs": [
        {
          "output_type": "error",
          "ename": "DCPError",
          "evalue": "Problem does not follow DCP rules. Specifically:\nThe following constraints are not DCP:\nPnorm(var14159 + -[ 1.62434536 -0.61175641 -0.52817175 -1.07296862  0.86540763 -2.3015387\n  1.74481176 -0.7612069   0.3190391  -0.24937038], 2) <= 0.5 @ Pnorm(var14159 + -[ 1.46210794 -2.06014071 -0.3224172  -0.38405435  1.13376944 -1.09989127\n -0.17242821 -0.87785842  0.04221375  0.58281521], 2) , because the following subexpressions are not:\n|--  Pnorm(var14159 + -[ 1.62434536 -0.61175641 -0.52817175 -1.07296862  0.86540763 -2.3015387\n  1.74481176 -0.7612069   0.3190391  -0.24937038], 2) <= 0.5 @ Pnorm(var14159 + -[ 1.46210794 -2.06014071 -0.3224172  -0.38405435  1.13376944 -1.09989127\n -0.17242821 -0.87785842  0.04221375  0.58281521], 2)",
          "traceback": [
            "\u001b[0;31m---------------------------------------------------------------------------\u001b[0m",
            "\u001b[0;31mDCPError\u001b[0m                                  Traceback (most recent call last)",
            "\u001b[0;32m<ipython-input-25-059de2c028d8>\u001b[0m in \u001b[0;36m<cell line: 0>\u001b[0;34m()\u001b[0m\n\u001b[1;32m     12\u001b[0m   \u001b[0;31m#constr = [(1-gamma*gamma)*x.T*x - 2*x.T*(a-gamma*gamma*b) + a.T*a-gamma*gamma*b.T*b<=0]\u001b[0m\u001b[0;34m\u001b[0m\u001b[0;34m\u001b[0m\u001b[0m\n\u001b[1;32m     13\u001b[0m   \u001b[0mprob\u001b[0m \u001b[0;34m=\u001b[0m \u001b[0mcp\u001b[0m\u001b[0;34m.\u001b[0m\u001b[0mProblem\u001b[0m\u001b[0;34m(\u001b[0m\u001b[0mcp\u001b[0m\u001b[0;34m.\u001b[0m\u001b[0mMinimize\u001b[0m\u001b[0;34m(\u001b[0m\u001b[0;36m0\u001b[0m\u001b[0;34m)\u001b[0m\u001b[0;34m,\u001b[0m\u001b[0mconstr\u001b[0m\u001b[0;34m)\u001b[0m\u001b[0;34m\u001b[0m\u001b[0;34m\u001b[0m\u001b[0m\n\u001b[0;32m---> 14\u001b[0;31m   \u001b[0mprob\u001b[0m\u001b[0;34m.\u001b[0m\u001b[0msolve\u001b[0m\u001b[0;34m(\u001b[0m\u001b[0msolver\u001b[0m\u001b[0;34m=\u001b[0m\u001b[0;34m'SCS'\u001b[0m\u001b[0;34m)\u001b[0m\u001b[0;34m\u001b[0m\u001b[0;34m\u001b[0m\u001b[0m\n\u001b[0m\u001b[1;32m     15\u001b[0m \u001b[0;34m\u001b[0m\u001b[0m\n\u001b[1;32m     16\u001b[0m   \u001b[0;32mif\u001b[0m \u001b[0mprob\u001b[0m\u001b[0;34m.\u001b[0m\u001b[0mstatus\u001b[0m \u001b[0;34m==\u001b[0m \u001b[0;34m'optimal'\u001b[0m\u001b[0;34m:\u001b[0m\u001b[0;34m\u001b[0m\u001b[0;34m\u001b[0m\u001b[0m\n",
            "\u001b[0;32m/usr/local/lib/python3.11/dist-packages/cvxpy/problems/problem.py\u001b[0m in \u001b[0;36msolve\u001b[0;34m(self, *args, **kwargs)\u001b[0m\n\u001b[1;32m    575\u001b[0m                     \"Cannot specify both 'solver' and 'solver_path'. Please choose one.\")\n\u001b[1;32m    576\u001b[0m             \u001b[0;32mreturn\u001b[0m \u001b[0mself\u001b[0m\u001b[0;34m.\u001b[0m\u001b[0m_solve_solver_path\u001b[0m\u001b[0;34m(\u001b[0m\u001b[0msolve_func\u001b[0m\u001b[0;34m,\u001b[0m\u001b[0msolver_path\u001b[0m\u001b[0;34m,\u001b[0m \u001b[0margs\u001b[0m\u001b[0;34m,\u001b[0m \u001b[0mkwargs\u001b[0m\u001b[0;34m)\u001b[0m\u001b[0;34m\u001b[0m\u001b[0;34m\u001b[0m\u001b[0m\n\u001b[0;32m--> 577\u001b[0;31m         \u001b[0;32mreturn\u001b[0m \u001b[0msolve_func\u001b[0m\u001b[0;34m(\u001b[0m\u001b[0mself\u001b[0m\u001b[0;34m,\u001b[0m \u001b[0;34m*\u001b[0m\u001b[0margs\u001b[0m\u001b[0;34m,\u001b[0m \u001b[0;34m**\u001b[0m\u001b[0mkwargs\u001b[0m\u001b[0;34m)\u001b[0m\u001b[0;34m\u001b[0m\u001b[0;34m\u001b[0m\u001b[0m\n\u001b[0m\u001b[1;32m    578\u001b[0m \u001b[0;34m\u001b[0m\u001b[0m\n\u001b[1;32m    579\u001b[0m     \u001b[0;34m@\u001b[0m\u001b[0mclassmethod\u001b[0m\u001b[0;34m\u001b[0m\u001b[0;34m\u001b[0m\u001b[0m\n",
            "\u001b[0;32m/usr/local/lib/python3.11/dist-packages/cvxpy/problems/problem.py\u001b[0m in \u001b[0;36m_solve\u001b[0;34m(self, solver, warm_start, verbose, gp, qcp, requires_grad, enforce_dpp, ignore_dpp, canon_backend, **kwargs)\u001b[0m\n\u001b[1;32m   1145\u001b[0m                 \u001b[0;32mreturn\u001b[0m \u001b[0mself\u001b[0m\u001b[0;34m.\u001b[0m\u001b[0mvalue\u001b[0m\u001b[0;34m\u001b[0m\u001b[0;34m\u001b[0m\u001b[0m\n\u001b[1;32m   1146\u001b[0m \u001b[0;34m\u001b[0m\u001b[0m\n\u001b[0;32m-> 1147\u001b[0;31m         data, solving_chain, inverse_data = self.get_problem_data(\n\u001b[0m\u001b[1;32m   1148\u001b[0m             \u001b[0msolver\u001b[0m\u001b[0;34m,\u001b[0m \u001b[0mgp\u001b[0m\u001b[0;34m,\u001b[0m \u001b[0menforce_dpp\u001b[0m\u001b[0;34m,\u001b[0m \u001b[0mignore_dpp\u001b[0m\u001b[0;34m,\u001b[0m \u001b[0mverbose\u001b[0m\u001b[0;34m,\u001b[0m \u001b[0mcanon_backend\u001b[0m\u001b[0;34m,\u001b[0m \u001b[0mkwargs\u001b[0m\u001b[0;34m\u001b[0m\u001b[0;34m\u001b[0m\u001b[0m\n\u001b[1;32m   1149\u001b[0m         )\n",
            "\u001b[0;32m/usr/local/lib/python3.11/dist-packages/cvxpy/problems/problem.py\u001b[0m in \u001b[0;36mget_problem_data\u001b[0;34m(self, solver, gp, enforce_dpp, ignore_dpp, verbose, canon_backend, solver_opts)\u001b[0m\n\u001b[1;32m    718\u001b[0m         \u001b[0;32mif\u001b[0m \u001b[0mkey\u001b[0m \u001b[0;34m!=\u001b[0m \u001b[0mself\u001b[0m\u001b[0;34m.\u001b[0m\u001b[0m_cache\u001b[0m\u001b[0;34m.\u001b[0m\u001b[0mkey\u001b[0m\u001b[0;34m:\u001b[0m\u001b[0;34m\u001b[0m\u001b[0;34m\u001b[0m\u001b[0m\n\u001b[1;32m    719\u001b[0m             \u001b[0mself\u001b[0m\u001b[0;34m.\u001b[0m\u001b[0m_cache\u001b[0m\u001b[0;34m.\u001b[0m\u001b[0minvalidate\u001b[0m\u001b[0;34m(\u001b[0m\u001b[0;34m)\u001b[0m\u001b[0;34m\u001b[0m\u001b[0;34m\u001b[0m\u001b[0m\n\u001b[0;32m--> 720\u001b[0;31m             solving_chain = self._construct_chain(\n\u001b[0m\u001b[1;32m    721\u001b[0m                 \u001b[0msolver\u001b[0m\u001b[0;34m=\u001b[0m\u001b[0msolver\u001b[0m\u001b[0;34m,\u001b[0m \u001b[0mgp\u001b[0m\u001b[0;34m=\u001b[0m\u001b[0mgp\u001b[0m\u001b[0;34m,\u001b[0m\u001b[0;34m\u001b[0m\u001b[0;34m\u001b[0m\u001b[0m\n\u001b[1;32m    722\u001b[0m                 \u001b[0menforce_dpp\u001b[0m\u001b[0;34m=\u001b[0m\u001b[0menforce_dpp\u001b[0m\u001b[0;34m,\u001b[0m\u001b[0;34m\u001b[0m\u001b[0;34m\u001b[0m\u001b[0m\n",
            "\u001b[0;32m/usr/local/lib/python3.11/dist-packages/cvxpy/problems/problem.py\u001b[0m in \u001b[0;36m_construct_chain\u001b[0;34m(self, solver, gp, enforce_dpp, ignore_dpp, canon_backend, solver_opts)\u001b[0m\n\u001b[1;32m    969\u001b[0m         \u001b[0mcandidate_solvers\u001b[0m \u001b[0;34m=\u001b[0m \u001b[0mself\u001b[0m\u001b[0;34m.\u001b[0m\u001b[0m_find_candidate_solvers\u001b[0m\u001b[0;34m(\u001b[0m\u001b[0msolver\u001b[0m\u001b[0;34m=\u001b[0m\u001b[0msolver\u001b[0m\u001b[0;34m,\u001b[0m \u001b[0mgp\u001b[0m\u001b[0;34m=\u001b[0m\u001b[0mgp\u001b[0m\u001b[0;34m)\u001b[0m\u001b[0;34m\u001b[0m\u001b[0;34m\u001b[0m\u001b[0m\n\u001b[1;32m    970\u001b[0m         \u001b[0mself\u001b[0m\u001b[0;34m.\u001b[0m\u001b[0m_sort_candidate_solvers\u001b[0m\u001b[0;34m(\u001b[0m\u001b[0mcandidate_solvers\u001b[0m\u001b[0;34m)\u001b[0m\u001b[0;34m\u001b[0m\u001b[0;34m\u001b[0m\u001b[0m\n\u001b[0;32m--> 971\u001b[0;31m         return construct_solving_chain(self, candidate_solvers, gp=gp,\n\u001b[0m\u001b[1;32m    972\u001b[0m                                        \u001b[0menforce_dpp\u001b[0m\u001b[0;34m=\u001b[0m\u001b[0menforce_dpp\u001b[0m\u001b[0;34m,\u001b[0m\u001b[0;34m\u001b[0m\u001b[0;34m\u001b[0m\u001b[0m\n\u001b[1;32m    973\u001b[0m                                        \u001b[0mignore_dpp\u001b[0m\u001b[0;34m=\u001b[0m\u001b[0mignore_dpp\u001b[0m\u001b[0;34m,\u001b[0m\u001b[0;34m\u001b[0m\u001b[0;34m\u001b[0m\u001b[0m\n",
            "\u001b[0;32m/usr/local/lib/python3.11/dist-packages/cvxpy/reductions/solvers/solving_chain.py\u001b[0m in \u001b[0;36mconstruct_solving_chain\u001b[0;34m(problem, candidates, gp, enforce_dpp, ignore_dpp, canon_backend, solver_opts, specified_solver)\u001b[0m\n\u001b[1;32m    234\u001b[0m     \u001b[0;32mif\u001b[0m \u001b[0mlen\u001b[0m\u001b[0;34m(\u001b[0m\u001b[0mproblem\u001b[0m\u001b[0;34m.\u001b[0m\u001b[0mvariables\u001b[0m\u001b[0;34m(\u001b[0m\u001b[0;34m)\u001b[0m\u001b[0;34m)\u001b[0m \u001b[0;34m==\u001b[0m \u001b[0;36m0\u001b[0m\u001b[0;34m:\u001b[0m\u001b[0;34m\u001b[0m\u001b[0;34m\u001b[0m\u001b[0m\n\u001b[1;32m    235\u001b[0m         \u001b[0;32mreturn\u001b[0m \u001b[0mSolvingChain\u001b[0m\u001b[0;34m(\u001b[0m\u001b[0mreductions\u001b[0m\u001b[0;34m=\u001b[0m\u001b[0;34m[\u001b[0m\u001b[0mConstantSolver\u001b[0m\u001b[0;34m(\u001b[0m\u001b[0;34m)\u001b[0m\u001b[0;34m]\u001b[0m\u001b[0;34m)\u001b[0m\u001b[0;34m\u001b[0m\u001b[0;34m\u001b[0m\u001b[0m\n\u001b[0;32m--> 236\u001b[0;31m     \u001b[0mreductions\u001b[0m \u001b[0;34m=\u001b[0m \u001b[0m_reductions_for_problem_class\u001b[0m\u001b[0;34m(\u001b[0m\u001b[0mproblem\u001b[0m\u001b[0;34m,\u001b[0m \u001b[0mcandidates\u001b[0m\u001b[0;34m,\u001b[0m \u001b[0mgp\u001b[0m\u001b[0;34m,\u001b[0m \u001b[0msolver_opts\u001b[0m\u001b[0;34m)\u001b[0m\u001b[0;34m\u001b[0m\u001b[0;34m\u001b[0m\u001b[0m\n\u001b[0m\u001b[1;32m    237\u001b[0m \u001b[0;34m\u001b[0m\u001b[0m\n\u001b[1;32m    238\u001b[0m     \u001b[0;31m# Process DPP status of the problem.\u001b[0m\u001b[0;34m\u001b[0m\u001b[0;34m\u001b[0m\u001b[0m\n",
            "\u001b[0;32m/usr/local/lib/python3.11/dist-packages/cvxpy/reductions/solvers/solving_chain.py\u001b[0m in \u001b[0;36m_reductions_for_problem_class\u001b[0;34m(problem, candidates, gp, solver_opts)\u001b[0m\n\u001b[1;32m    148\u001b[0m             append += (\"\\nHowever, the problem does follow DQCP rules. \"\n\u001b[1;32m    149\u001b[0m                        \"Consider calling solve() with `qcp=True`.\")\n\u001b[0;32m--> 150\u001b[0;31m         raise DCPError(\n\u001b[0m\u001b[1;32m    151\u001b[0m             \"Problem does not follow DCP rules. Specifically:\\n\" + append)\n\u001b[1;32m    152\u001b[0m     \u001b[0;32melif\u001b[0m \u001b[0mgp\u001b[0m \u001b[0;32mand\u001b[0m \u001b[0;32mnot\u001b[0m \u001b[0mproblem\u001b[0m\u001b[0;34m.\u001b[0m\u001b[0mis_dgp\u001b[0m\u001b[0;34m(\u001b[0m\u001b[0;34m)\u001b[0m\u001b[0;34m:\u001b[0m\u001b[0;34m\u001b[0m\u001b[0;34m\u001b[0m\u001b[0m\n",
            "\u001b[0;31mDCPError\u001b[0m: Problem does not follow DCP rules. Specifically:\nThe following constraints are not DCP:\nPnorm(var14159 + -[ 1.62434536 -0.61175641 -0.52817175 -1.07296862  0.86540763 -2.3015387\n  1.74481176 -0.7612069   0.3190391  -0.24937038], 2) <= 0.5 @ Pnorm(var14159 + -[ 1.46210794 -2.06014071 -0.3224172  -0.38405435  1.13376944 -1.09989127\n -0.17242821 -0.87785842  0.04221375  0.58281521], 2) , because the following subexpressions are not:\n|--  Pnorm(var14159 + -[ 1.62434536 -0.61175641 -0.52817175 -1.07296862  0.86540763 -2.3015387\n  1.74481176 -0.7612069   0.3190391  -0.24937038], 2) <= 0.5 @ Pnorm(var14159 + -[ 1.46210794 -2.06014071 -0.3224172  -0.38405435  1.13376944 -1.09989127\n -0.17242821 -0.87785842  0.04221375  0.58281521], 2)"
          ]
        }
      ]
    },
    {
      "cell_type": "markdown",
      "source": [
        "## Exercise 2"
      ],
      "metadata": {
        "id": "hLYU9Hg4Y4NG"
      }
    },
    {
      "cell_type": "code",
      "source": [
        "n = 10\n",
        "np.random.seed(1)\n",
        "A = np.random.randn(n, n)\n",
        "b = A @ np.random.randn(n)\n",
        "epsilon = 1e-2"
      ],
      "metadata": {
        "id": "ytmYFo7RD69n"
      },
      "execution_count": null,
      "outputs": []
    },
    {
      "cell_type": "code",
      "source": [
        "x = cp.Variable(n)\n",
        "mse = cp.sum_squares(A @ x - b)/n\n",
        "problem = cp.Problem(cp.Minimize(cp.length(x)), [mse <= epsilon])\n",
        "print(\"Is problem DQCP?: \", problem.is_dqcp())\n",
        "\n",
        "problem.solve(qcp=True,solver='SCS')\n",
        "print(\"Found a solution, with length: \", problem.value)\n",
        "print(\"MSE: \", mse.value)\n",
        "print(\"x: \", np.round(x.value,2))"
      ],
      "metadata": {
        "colab": {
          "base_uri": "https://localhost:8080/"
        },
        "id": "KT6zgkChUuIv",
        "outputId": "4f524f12-2506-481b-d709-3c52928ae4ea"
      },
      "execution_count": null,
      "outputs": [
        {
          "output_type": "stream",
          "name": "stdout",
          "text": [
            "Is problem DQCP?:  True\n",
            "Found a solution, with length:  8.0\n",
            "MSE:  0.00926009354495749\n",
            "x:  [-0.26  1.38  0.21  0.94 -1.15  0.15  0.66 -1.16 -0.    0.  ]\n"
          ]
        }
      ]
    },
    {
      "cell_type": "code",
      "source": [],
      "metadata": {
        "id": "LLoFAhSF5Yh6"
      },
      "execution_count": null,
      "outputs": []
    }
  ]
}