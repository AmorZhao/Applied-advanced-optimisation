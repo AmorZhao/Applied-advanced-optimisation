{
  "cells": [
    {
      "cell_type": "markdown",
      "metadata": {
        "id": "i047-fcFTU7X"
      },
      "source": [
        "# APPENDIX A - Auxiliary Definitions"
      ]
    },
    {
      "cell_type": "markdown",
      "metadata": {
        "id": "2pZcNTqZTU_F"
      },
      "source": [
        "---\n",
        "---\n",
        "\n",
        "**Author:** Dr Giordano Scarciotti (g.scarciotti@imperial.ac.uk) - Imperial College London\n",
        "\n",
        "**Module:** ELEC97111/97119 - Advanced Optimisation\n",
        "\n",
        "**Version:** 1.0.1 - 25/01/2023\n",
        "\n",
        "---\n",
        "---"
      ]
    },
    {
      "cell_type": "markdown",
      "metadata": {
        "id": "rtFofLWOCFAK"
      },
      "source": [
        "**Conditional probability:** conditional probability is a measure of the probability of an event occurring, given that another event (by assumption, presumption, assertion or evidence) has already occurred. If the event of interest is $A$ and the event $B$ is known or assumed to have occurred, \"the conditional probability of $A$ given $B$\" is written as $\\textbf{prob}(A|B)$.\n",
        "\n",
        "For example, the probability that any given person has a cough on any given day may be only $5\\%$. But if we know or assume that the person is sick, then they are much more likely to be coughing. For example, the conditional probability that someone unwell (sick) is coughing might be $75\\%$, in which case we would have that $\\textbf{prob}(\\text{Cough}) = 5\\%$ and $\\textbf{prob}(\\text{Cough}|\\text{Sick}) = 75\\%$.\n",
        "\n",
        "More details on [conditional probabilities](https://en.wikipedia.org/wiki/Conditional_probability).\n",
        "\n",
        "---"
      ]
    },
    {
      "cell_type": "markdown",
      "metadata": {
        "id": "GnMXhs7nXT7M"
      },
      "source": [
        "**Gaussian distribution:** a normal distribution or Gaussian distribution is a type of continuous probability distribution with probability density\n",
        "\n",
        "$$\n",
        "p(y) = \\frac{1}{\\sigma \\sqrt{2\\pi} } e^{-\\frac{1}{2}\\left(\\frac{y-\\mu}{\\sigma}\\right)^2}\n",
        "$$\n",
        "\n",
        "where the parameter $\\mu$ is the mean or expectation of the distribution, while the parameter $\\sigma$ is its standard deviation. The variance of the distribution is $\\sigma^{2}$. A random variable with a Gaussian distribution is said to be normally distributed.\n",
        "\n",
        "Normal distributions are important in statistics and are often used in the natural and social sciences to represent real-valued random variables whose distributions are not known. The reason for this is that physical quantities that are expected to be the sum of many independent processes, such as measurement errors, are often normally distributed.\n",
        "\n",
        "More details on [normal distributions](https://en.wikipedia.org/wiki/Normal_distribution).\n",
        "\n",
        "---"
      ]
    },
    {
      "cell_type": "markdown",
      "metadata": {
        "id": "ezGKhrW89az2"
      },
      "source": [
        "**Laplacian distribution:** the Laplace distribution is a continuous probability distribution with probability density\n",
        "\n",
        "$$\n",
        "p(y) = \\frac{1}{2b} e^\\left( -\\frac{|y-\\mu|}{b} \\right)\n",
        "$$\n",
        "\n",
        "where $\\mu$ is a location parameter and $b > 0$ is sometimes referred to as the \"diversity\". This distribution is also sometimes called the double exponential distribution, because it can be thought of as two exponential distributions. The difference between two independent identically distributed exponential random variables is governed by a Laplace distribution.\n",
        "\n",
        "<div>\n",
        "<img src=\"Images/image_A_1.png\" width=\"400\"/>\n",
        "</div>\n",
        "\n",
        "Figure. *Comparison between Normal and Laplace distributions. Source [here](https://rss.onlinelibrary.wiley.com/doi/full/10.1111/j.1740-9713.2018.01185.x)*\n",
        "\n",
        "\n",
        "More details on [Laplace distributions](https://en.wikipedia.org/wiki/Laplace_distribution).\n",
        "\n",
        "---"
      ]
    },
    {
      "cell_type": "markdown",
      "metadata": {
        "id": "F3PtR1ZsU-RT"
      },
      "source": [
        "**Poisson distribution:** the Poisson distribution is a discrete probability distribution that expresses the probability of a given number of events occurring in a fixed interval of time or space if these events occur with a known constant mean rate and independently of the time since the last event.\n",
        "\n",
        "For instance, a call center receives an average of $180$ calls per hour, $24$ hours a day. The calls are independent; receiving one does not change the probability of when the next one will arrive. The number of calls received during any minute has a Poisson probability distribution with mean $3$: the most likely numbers are $2$ and $3$ but $1$ and $4$ are also likely and there is a small probability of it being as low as zero and a very small probability it could be $10$.\n",
        "\n",
        "A discrete random variable $X$ is said to have a Poisson distribution if the probability that $X$ is equal to $k$ is\n",
        "\n",
        "$$\n",
        "\\textbf{prob}(X=k)= \\frac{\\lambda^k e^{-\\lambda}}{k!}.\n",
        "$$\n",
        "\n",
        "More details on [Poisson distributions](https://en.wikipedia.org/wiki/Poisson_distribution).\n",
        "\n",
        "---"
      ]
    },
    {
      "cell_type": "markdown",
      "metadata": {
        "id": "ZpyjDG4HTVEl"
      },
      "source": [
        "**Probability distribution** and **density function**: A *probability distribution* is the mathematical function that gives the probabilities of occurrence of different possible outcomes for an experiment.\n",
        "\n",
        "For instance, if $X$ is used to denote the outcome of a coin toss (\"the experiment\"), then the probability distribution of $X$ would be\n",
        "\n",
        "$$\n",
        "\\textbf{prob}(X) = \\left\\{\\begin{array}{ll} 0.5 & X=\\text{head}\\\\0.5 & X=\\text{tail} \\end{array} \\right.\n",
        "$$\n",
        "\n",
        "The example above is an instance of **discrete** probability distribution. Probability distributions can also be **continuous**, e.g. the Gaussian distribution. Continuous probability distributions are defined by means of their *density function* because of the relation\n",
        "\n",
        "$$\n",
        "\\textbf{prob}(a \\le X \\le b) = \\int_a^b p(u)du\n",
        "$$\n",
        "\n",
        "where $p(\\cdot)$ is the density function. In the course densities may be indicated by $p_x(\\cdot)$, where $x$ represents the parameters of the distribution (e.g. mean, variance, or more complicated statistical quantities).\n",
        "\n",
        "More details on [Probability distributions](https://en.wikipedia.org/wiki/Probability_distribution) and [density functions](https://en.wikipedia.org/wiki/Probability_density_function).\n",
        "\n",
        "---"
      ]
    },
    {
      "cell_type": "markdown",
      "metadata": {
        "id": "5WaFfb2M-ZZB"
      },
      "source": [
        "**Epigraph identity in 4.2.1**: $w$ is non-negative. We want to show that\n",
        "\n",
        "$$\n",
        "\\textbf{epi }(w f) = \\left[\\begin{array}{ll} I & 0 \\\\ 0 & w\\end{array}\\right] \\textbf{epi }(f).\n",
        "$$\n",
        "\n",
        "Note that\n",
        "\n",
        "$$\n",
        "(x,t)\\in \\textbf{epi }(f) \\iff f(x) \\le t \\iff wf(x) \\le wt \\iff (x,wt)\\in \\textbf{epi }(wf)\n",
        "$$\n",
        "\n",
        "So a point in $\\textbf{epi }(wf)$ can be written as\n",
        "\n",
        "$$\n",
        "(x,wt) = \\left[\\begin{array}{ll} I & 0 \\\\ 0 & w\\end{array}\\right]\\left[\\begin{array}{l} x \\\\ t\\end{array}\\right]\n",
        "$$\n",
        "\n",
        "where $(x,t)$ is a point in $\\textbf{epi }(f)$."
      ]
    }
  ],
  "metadata": {
    "colab": {
      "provenance": []
    },
    "kernelspec": {
      "display_name": "Python 3",
      "name": "python3"
    },
    "language_info": {
      "name": "python"
    }
  },
  "nbformat": 4,
  "nbformat_minor": 0
}
